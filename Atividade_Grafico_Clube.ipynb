{
  "nbformat": 4,
  "nbformat_minor": 0,
  "metadata": {
    "colab": {
      "provenance": [],
      "authorship_tag": "ABX9TyPD2HF2v/GLT8MWmdYgqGpl",
      "include_colab_link": true
    },
    "kernelspec": {
      "name": "python3",
      "display_name": "Python 3"
    },
    "language_info": {
      "name": "python"
    },
    "widgets": {
      "application/vnd.jupyter.widget-state+json": {
        "a92cee7bb8e145f4964998cd95b90416": {
          "model_module": "@jupyter-widgets/controls",
          "model_name": "DropdownModel",
          "model_module_version": "1.5.0",
          "state": {
            "_dom_classes": [],
            "_model_module": "@jupyter-widgets/controls",
            "_model_module_version": "1.5.0",
            "_model_name": "DropdownModel",
            "_options_labels": [
              "Todos",
              "f",
              "m"
            ],
            "_view_count": null,
            "_view_module": "@jupyter-widgets/controls",
            "_view_module_version": "1.5.0",
            "_view_name": "DropdownView",
            "description": "Sexo:",
            "description_tooltip": null,
            "disabled": false,
            "index": 2,
            "layout": "IPY_MODEL_c0971229ed7b4e0e9001eec3417f40a0",
            "style": "IPY_MODEL_6af12b8d70994b56888c2e662582dc78"
          }
        },
        "c0971229ed7b4e0e9001eec3417f40a0": {
          "model_module": "@jupyter-widgets/base",
          "model_name": "LayoutModel",
          "model_module_version": "1.2.0",
          "state": {
            "_model_module": "@jupyter-widgets/base",
            "_model_module_version": "1.2.0",
            "_model_name": "LayoutModel",
            "_view_count": null,
            "_view_module": "@jupyter-widgets/base",
            "_view_module_version": "1.2.0",
            "_view_name": "LayoutView",
            "align_content": null,
            "align_items": null,
            "align_self": null,
            "border": null,
            "bottom": null,
            "display": null,
            "flex": null,
            "flex_flow": null,
            "grid_area": null,
            "grid_auto_columns": null,
            "grid_auto_flow": null,
            "grid_auto_rows": null,
            "grid_column": null,
            "grid_gap": null,
            "grid_row": null,
            "grid_template_areas": null,
            "grid_template_columns": null,
            "grid_template_rows": null,
            "height": null,
            "justify_content": null,
            "justify_items": null,
            "left": null,
            "margin": null,
            "max_height": null,
            "max_width": null,
            "min_height": null,
            "min_width": null,
            "object_fit": null,
            "object_position": null,
            "order": null,
            "overflow": null,
            "overflow_x": null,
            "overflow_y": null,
            "padding": null,
            "right": null,
            "top": null,
            "visibility": null,
            "width": null
          }
        },
        "6af12b8d70994b56888c2e662582dc78": {
          "model_module": "@jupyter-widgets/controls",
          "model_name": "DescriptionStyleModel",
          "model_module_version": "1.5.0",
          "state": {
            "_model_module": "@jupyter-widgets/controls",
            "_model_module_version": "1.5.0",
            "_model_name": "DescriptionStyleModel",
            "_view_count": null,
            "_view_module": "@jupyter-widgets/base",
            "_view_module_version": "1.2.0",
            "_view_name": "StyleView",
            "description_width": ""
          }
        },
        "bf7012abdd6d4257a5b40a53ef3c54b3": {
          "model_module": "@jupyter-widgets/output",
          "model_name": "OutputModel",
          "model_module_version": "1.0.0",
          "state": {
            "_dom_classes": [],
            "_model_module": "@jupyter-widgets/output",
            "_model_module_version": "1.0.0",
            "_model_name": "OutputModel",
            "_view_count": null,
            "_view_module": "@jupyter-widgets/output",
            "_view_module_version": "1.0.0",
            "_view_name": "OutputView",
            "layout": "IPY_MODEL_1592b53752e449de98b2f1b122b1cd3a",
            "msg_id": "",
            "outputs": [
              {
                "output_type": "stream",
                "name": "stdout",
                "text": [
                  "Total de compras: 13   |   Valor médio: R$123.38\n",
                  "\n"
                ]
              },
              {
                "output_type": "stream",
                "name": "stderr",
                "text": [
                  "/tmp/ipython-input-2084334366.py:37: FutureWarning:\n",
                  "\n",
                  "\n",
                  "\n",
                  "Passing `palette` without assigning `hue` is deprecated and will be removed in v0.14.0. Assign the `x` variable to `hue` and set `legend=False` for the same effect.\n",
                  "\n",
                  "\n"
                ]
              },
              {
                "output_type": "display_data",
                "data": {
                  "text/plain": "<Figure size 600x400 with 1 Axes>",
                  "image/png": "iVBORw0KGgoAAAANSUhEUgAAAgsAAAGJCAYAAAAEz3CAAAAAOnRFWHRTb2Z0d2FyZQBNYXRwbG90bGliIHZlcnNpb24zLjEwLjAsIGh0dHBzOi8vbWF0cGxvdGxpYi5vcmcvlHJYcgAAAAlwSFlzAAAPYQAAD2EBqD+naQAANz1JREFUeJzt3XlcFWX///E3HEBxF9fcReW4gaJiipqC2nZrKZq75pa7lruWpZWlaXan5H3/VMwl99uU0lvNLcuFcsmFXKg0xS33HRI4nN8f3ZyvR2AEBIf09Xw8ejw415m55nMOXvGemWtmXOx2u10AAACpcDW7AAAAkL0RFgAAgCHCAgAAMERYAAAAhggLAADAEGEBAAAYIiwAAABDhAUAAGCIsAAAAAwRFgA8El27dlXXrl0zvG6LFi0yuaLUvfbaaxo3btwj297fybVr11SzZk199913ZpeCR8jN7AKA6OhohYWFaefOnbp48aLc3d3l4+OjF154Qe3bt1fOnDnNLhEGLl++rLlz5+rbb7/V+fPn5eLiIm9vbzVr1kxdunRRvnz5zC4xXfbt26edO3dq/fr1Tu1nzpzRzJkztWfPHl24cEH58uVTuXLl9PTTT2vIkCEmVfvoFSxYUG3bttX06dPVuHFjs8vBI0JYgKm2bdum119/XR4eHnr55Zfl4+Oj+Ph47du3T1OnTtVvv/2m999/3+wykYpDhw6pT58+iomJ0UsvvaRq1apJkn7++WfNmTNHe/fu1eeff25ylekzd+5c1a9fX2XLlnW0nTp1Sm3btlWOHDnUpk0blSpVShcvXtSRI0c0Z86cJyosSFLHjh31xRdfKCIiQvXr1ze7HDwChAWY5vTp0xo6dKhKlCihBQsWqGjRoo73OnfurFOnTmnbtm3mFZgBCQkJSkxMlIeHh9mlZIqYmBjlypUrxfdu3rypQYMGyWKxaPXq1apQoYLT+0OHDtWKFSseRZmZ5sqVK/ruu+80YcIEp/b58+crJiZG4eHhKlmyZLJ1njQVKlSQj4+PVq9eTVh4QjBnAaYJCwtTTEyMPvjgA6egkKRs2bJ69dVXHa8TEhI0c+ZMNWvWTNWrV1dwcLA++eQTxcXFOa0XHBysvn376scff1RISIj8/PzUsmVL/fjjj5KkjRs3qmXLlvL19VVISIiOHDnitP6YMWPk7++v06dPq1evXqpZs6YaNmyozz77TPc+pPXMmTOyWq2aO3eu5s+fr2bNmsnX11fHjx9XXFycpk+frpCQENWuXVs1a9ZUp06d9MMPPyT7nP/9738VEhIif39/1apVSy1bttSCBQsMv7v7tx0UFCQ/Pz916dJFv/zyS7LlIyIi1KlTJ9WsWVN16tRR//79dfz4cadlQkNDZbVa9dtvv2n48OEKCAhQp06dUq1h2bJlunDhgsaMGZMsKEhS4cKFNWDAgFTXX7VqlaxWq86cOePU/uOPP8pqtTp+X/f6+eef1aFDB/n5+Sk4OFhLly5NtkxcXJxmzJih5s2bq3r16mrcuLGmTJmS7N9JSrZt26aEhAQFBgY6tUdHR6tYsWLJgoIkFSpUKFnbd9995/i+/f391adPH/3666+O9yMiIlS5cmVNnz7dab01a9bIarVqyZIljrYjR46od+/eqlWrlvz9/fXqq6/qwIEDybYZHR2t6OjoB37GpO997969mjhxourVq6c6deronXfeUVxcnG7evKlRo0YpICBAAQEBmjJlilJ6OHFgYKC+/fbbFN/D44ewANN8++23Kl26tGrVqpWm5ceNG6cZM2aoatWqGjt2rAICAjRr1iwNHTo02bKnTp3S8OHDFRwcrGHDhunGjRvq16+fvv76a02aNEktW7bU4MGDFR0drTfeeEOJiYlO69tsNvXu3VuFChXSyJEjVb16dYWGhmrGjBnJtrVq1SotWrRI7dq10+jRo5U/f37dvn1b//nPf1S3bl2NGDFCgwYN0tWrV9W7d28dPXrUse7OnTs1bNgw5cuXTyNGjNDw4cNVt25d/fTTT2n6TsLDw7Vw4UJ16tTJ8Qfp1Vdf1eXLlx3L7Nq1S71799aVK1c0aNAgde/eXfv371fHjh2T/aGWpNdff12xsbEaOnSoXnnllVS3vXXrVuXMmVPPPfdcmmp9WDdu3FCfPn1UrVo1jRw5UsWLF9eECRO0cuVKxzKJiYnq37+/Pv/8cwUFBentt99Ws2bNtGDBAr3xxhsP3Mb+/ftVoECBZKGgZMmS+uOPPxQREfHAPsLDw9W3b1/lypVLI0aM0IABA/Tbb7+pU6dOju+7fv366tSpk2bPnq3Dhw9Lki5evKiJEycqMDBQHTt2lCT9+uuv6ty5s44dO6bevXurf//+OnPmjLp27aqDBw86bbd79+7q3r37A+tLMnHiRJ08eVKDBw9WcHCwli9frunTp6tfv36y2WwaOnSoateurblz5+qrr75Ktn61atV08+ZNpxCEx5gdMMGtW7fsPj4+9v79+6dp+aNHj9p9fHzsb731llP75MmT7T4+PvaIiAhHW1BQkN3Hx8f+008/Odq2b99u9/Hxsfv5+dnPnj3raF+2bJndx8fH/sMPPzjaRo8ebffx8bG///77jrbExER7nz597NWqVbNfuXLFbrfb7adPn7b7+PjYa9Wq5WhLkpCQYL97965T240bN+yBgYH2sWPHOtomTpxor1Wrlj0hISFN30OSpG37+fnZ//jjD0f7wYMH7T4+PvYPP/zQ0fbyyy/b69evb7927Zqj7ejRo/bKlSvbR40a5WibMWOG3cfHxz5s2LA01RAQEGB/6aWX0lxzly5d7F26dHG8/vLLL+0+Pj7206dPOy33ww8/JPuddOnSxe7j42P//PPPHW137951fLa4uDi73W63h4eH2ytXrmzfs2ePU59Lly61+/j42Pft22dYY8eOHe2tW7dO1v7LL7/Y/fz87D4+PvaXX37ZPnHiRPumTZvsMTExTsvdvn3bXqdOHfu4ceOc2i9dumSvXbu2U3tMTIy9efPm9n/84x/2u3fv2vv06WOvVauW07/PAQMG2KtVq2aPjo52tF24cMHu7+9v79y5s9M2goKC7EFBQYafz27/v++9Z8+e9sTEREd7+/bt7Var1f7OO+842hISEuzPPPOM0+8tyU8//WT38fGx//e//33gNvH3x5EFmOL27duSpNy5c6dp+aTLtHr06OHU3rNnT6f3k1SsWFH+/v6O1zVq1JAk1atXTyVKlEjWfvr06WTb7Ny5s+NnFxcXde7cWfHx8cn2Lp999ll5eXk5tVksFse8hcTERF2/fl0JCQmqXr2602mPfPnyKTY2Vjt37jT6+Klq1qyZihUr5njt5+enGjVqOL6Pixcv6ujRo2rdurUKFCjgWK5y5coKDAxM8fK3Dh06pGnbt2/fTvPvLzO4ubmpffv2jtceHh5q3769rly54tg737BhgypUqCBvb29dvXrV8V+9evUkKcVTG/e6fv268ufPn6y9UqVKCg8P10svvaSzZ89q4cKFGjhwoAIDA53mZezatUs3b97UP/7xD6ftu7q6qkaNGk7b9/T01KRJk3T8+HF17txZ27Zt09ixYx3/Pm02m3bu3KlmzZqpdOnSjvWKFi2qFi1aaN++fY5xJP11pGfr1q1p/j7btm0rFxcXx2s/Pz/Z7Xa1bdvW0WaxWFS9evUUx0fSVS7Xrl1L8zbx98UER5giT548kqQ7d+6kafmzZ8/K1dVVZcqUcWovUqSI8uXLp7Nnzzq1P/XUU06v8+bNK0kqXrx4inXcvHnTqd3V1dXpf9CSVL58eUct9ypVqlSKNa9evVqff/65fv/9d8XHx6e4fKdOnbR+/Xq99tprKlasmBo0aKAXXnhBzzzzTIp93u/eGftJypUr57js79y5c06136tChQrasWNHskmMqX2e++XJkyfNv7/MULRo0WSTLcuVKyfpr99JzZo1derUKR0/fjzVSXdpmYxoT+UcfPny5TV16lTZbDb99ttv2rZtm8LCwvT222+rVKlSCgwM1MmTJyXJaa7NvZL+vSWpXbu2OnbsqMWLF6thw4ZOf6ivXr2q2NjYVH93iYmJOn/+vCpVqvTAz5SSe0Oz9H9jJKWxc+PGjVT7uTdw4PFFWIAp8uTJo6JFi6b7fGda/8dksVjS1Z7aH4i0SOk+EF999ZXGjBmjZs2aqVevXipUqJAsFotmzZrltJdWqFAhhYeHa8eOHfr+++/1/fffa9WqVWrVqpU++uijDNf0MHLkyJGm5by9vXX06FHFxcVl6OqP1H6X988fSY/ExET5+Pho7NixKb5/f1i8X4ECBZIFx/tZLBZZrVZZrVbVrFlT3bp105o1axQYGOj4dzRlyhQVKVIkxXXvFRcXp927d0v66+hWbGysPD09DbefWVxdUz6wnFr7/ZICRMGCBTOtJmRfhAWYJigoSMuXL9f+/fudThmkpGTJkkpMTNSpU6ecZt5fvnxZN2/eTHGW+sNITEzU6dOnnfbqfv/9d0ctD/LNN9+odOnS+uyzz5z+KKY0QdLDw0PBwcEKDg5WYmKiJkyYoOXLl2vAgAEpHjm416lTp5K1nTx50lFj0t5jUu33OnHihAoWLJjqpZEPEhQUpP3792vjxo0Zurti0mHsW7duObXff+QmycWLF5MdBUnak0/6vGXKlNGxY8dUv379DO3xent7a+PGjWlevnr16o7aJDmORhUqVCjZFRUpmTFjho4fP67Ro0fr448/1rRp0xx3jvTy8pKnp2eqvztXV9dkRwEepaTJmildCYPHD3MWYJrevXsrV65cGjdunNPs/STR0dGOSwiT7hR3/yWF8+bNc3o/My1evNjxs91u1+LFi+Xu7p6m68qT9iDvPWJx8ODBZJe83X++19XVVVarVZLSdKnf5s2bdeHCBcfrQ4cO6eDBg47TGEWLFlWVKlUUHh7utMf8yy+/aOfOnQ/1vXXo0EFFihTR5MmTU/yDduXKFf3rX/9Kdf2kU0p79uxxtNlstlTvzZCQkKDly5c7XsfFxWn58uXy8vJy3AzqhRde0IULF1Ls488//1RMTIzhZ6pZs6Zu3LiR7Bz93r17nU4lJUma85EUKhs1aqQ8efJo1qxZKS5/9epVx88HDx7U559/rldffVU9e/ZUr169tGjRIseRBovFogYNGmjLli1OV61cvnxZa9euVe3atZ1Oa6T10snMcvjwYeXNmzfDp0Hw98KRBZimTJky+vjjjzV06FC9+OKLjjs4xsXFaf/+/dqwYYNCQkIk/TUhr3Xr1lq+fLlu3rypgIAARUZGavXq1WrWrJljAltmyZEjh7Zv367Ro0fLz89P27dv17Zt29SvX79kkxlT0qRJE23cuFEDBw5UkyZNdObMGS1btkwVK1Z0+oM1btw43bhxQ/Xq1VOxYsV07tw5LVq0SFWqVEnTHluZMmXUsWNHdezYUXFxcVq4cKEKFCig3r17O5YZNWqUXnvtNbVv315t27bVn3/+qUWLFilv3rwaNGhQxr4gSfnz59fMmTPVp08ftWrVyukOjkeOHNHatWsNjxhVqlRJNWvW1CeffKIbN24of/78WrdunRISElJcvmjRopozZ47Onj2rcuXKad26dTp69Kjef/99ubu7S5JefvllrV+/XuPHj9ePP/6oWrVqyWaz6cSJE9qwYYPCwsLk6+ubak1NmjSRm5ubdu3a5TSZcs6cOTp8+LCaN2/uCHNHjhxReHi4ChQo4JijkCdPHk2YMEGjRo1SSEiIXnzxRXl5eencuXP67rvvVKtWLb3zzju6e/euRo8erbJlyzou/R08eLC+/fZbjR07VmvWrFGuXLn0xhtvaNeuXerUqZM6deoki8Wi5cuXKy4uTiNHjnSqPemyyfRMcnwYu3btUlBQEHMWnhCEBZiqadOm+vrrrzV37lxt2bJFS5culYeHh6xWq8aMGaN27do5lp04caJKlSql1atXa/PmzSpcuLD69u37UH/wUmOxWBQWFqYJEyZo6tSpyp07twYNGqSBAwemaf2QkBBdvnxZy5cv144dO1SxYkVNnTpVGzZscOw5StJLL72kFStWaMmSJbp586aKFCmiF154QYMHD07TueNWrVrJ1dVVCxYs0JUrV+Tn56e3337b6SZXgYGBCgsL04wZMzRjxgy5ubkpICBAI0eOTDaJM71q1KihNWvWaO7cudq2bZu++uorubq6ytvbW3369FGXLl0M1//444/1zjvvaPbs2cqXL5/atm2rp59+OtlVL9Jf4WTy5MmaOHGiVqxYocKFC+udd95x+jfi6uqqmTNnav78+frqq6+0adMmeXp6qlSpUuratWuKkwXvVbhwYT3zzDNav369U1jo27ev1q5dqz179mjNmjX6888/VaRIEf3jH//QgAEDnL7Hli1bqmjRopo9e7bmzp2ruLg4FStWTHXq1HGE308++UTR0dFatmyZY46Ih4eHJk+erPbt22vKlCmaMGGCKlWqpMWLF2vatGmaNWuW7Ha7/Pz8NHXqVMeVPGY4fvy4fvnlF7355pum1YBHy8X+MDO7gMfQmDFj9M0332j//v1ml5KqM2fOqGnTpho1apR69epldjmPlb1796pr165av36942oLOPvggw+0d+9erVq1iiMLTwjmLADAPerUqaMGDRooLCzM7FKypWvXrmnlypV64403CApPEE5DwHRjxozR6tWrU33/+++/d7rxEJDVCAqpK1iwYLY+6oasQViA6dq3b5/sCgO73a4JEyaoZMmSBAUAMBlzFpAt7d27V507d9bQoUPVr18/s8sBgCcacxaQLa1du1YuLi4ZutkPACBzERaQ7cTHx2v9+vXy9/dP83MKAABZ5289ZyExMVEJCQlydXVlVu5j5Pvvv9f169fVokUL2Ww2s8sBgMeS3W5XYmKi3NzcHnhfl791WEhISFBkZKTZZSCTLVq0SBaLRSVLlkx2e2QAQOby9fV94MPg/tZhISkJ+fr6pvo0Qfy93LlzR/v371ejRo3UqFEjs8sBgMeWzWZTZGRkmu4W+7cOC0mnHiwWC2HhMfHtt98qNjZWL730Er9TAHgE0nIanwmOyFaSHqATHBxsdikAgP8hLCDbuHr1qiIiItS8eXN5enqaXQ4A4H8IC8g2kh5P3LJlS7NLAQDcg7CAbGPNmjUqVKiQAgMDzS4FAHCPv/UERzxeli9fbnYJAIAUcGQBAAAYIiwAAABDpp6GCA4O1tmzZ5O1d+rUSePHjzehIgAAcD9Tw8LKlSud7v3/66+/qkePHnr++edNrAoAANzL1LDg5eXl9Hr27NkqU6aM6tata1JFAADgftnmaoi4uDh9/fXX6tGjR7qfIMmTCQEASJ/0/O3MNmFh8+bNunXrllq3bp3udbPiyZPu7u6qVqWKLO7umd43kJ3Y4uN1+OhRxcfHm10KgGwq24SFL7/8Us8884yKFSuW7nWz6qmTFotFl954Q/G//ZbpfQPZgXvFiiry6aeqVq2a2aUAeMSSnjqZFtkiLJw9e1a7du1SaGhohtbPyqdOxv/2m+IOH86SvoHsgid8AjCSLe6zsGrVKhUqVEhNmjQxuxQAAHAf08NCYmKiVq1apVatWsnNLVsc6AAAAPcwPSzs2rVL586dU5s2bcwuBQAApMD0XfmGDRsqKirK7DIAAEAqTD+yAAAAsjfCAgAAMERYAAAAhggLAADAEGEBAAAYIiwAAABDhAUAAGCIsAAAAAwRFgAAgCHCAgAAMERYAAAAhggLAADAEGEBAAAYIiwAAABDhAUAAGCIsAAAeKDDhw+rX79+qlu3rmrUqKEWLVpo4cKFZpeFR8TN7AIAANnbjh071K9fP1WtWlUDBgxQrly5FB0drT/++MPs0vCIEBYAAKm6ffu2Ro8erSZNmmjGjBlydeWA9JOI3zoAIFVr1qzR5cuXNXToULm6uiomJkaJiYlml4VHjLAAAEhVRESE8uTJowsXLui5556Tv7+/ateurfHjx+vu3btml4dHhLAAAEjVyZMnZbPZNGDAADVq1EihoaFq06aNli1bprFjx5pdHh4R5iwAAFIVExOj2NhYdejQQePGjZMkPfvss4qLi9Py5cs1ZMgQlStXztwikeU4sgAASFXOnDklSS1atHBqb9mypSTpwIEDj7okmICwAABIVdGiRSVJhQoVcmr38vKSJN24ceOR14RHj7AAAEhVtWrVJEkXLlxwar948aKk/wsNeLwRFgAAqXrhhRckSStXrnRqX7lypdzc3FS3bl0zysIjxgRHAECqqlatqjZt2ujLL7+UzWZTQECAdu/erQ0bNqhv374qVqyY2SXiESAsAAAMvfvuuypRooRWrVqlzZs3q0SJEho7dqy6d+9udml4RAgLAABD7u7uGjRokAYNGmR2KTAJcxYAAIAhwgIAADBkeli4cOGCRowYoaefflp+fn5q2bKlIiMjzS4LAAD8j6lzFm7cuKGOHTvq6aef1pw5c1SwYEGdOnVK+fPnN7MsAABwD1PDwpw5c1S8eHFNmjTJ0Va6dGkTKwIAAPczNSxs3bpVDRs21JAhQ7Rnzx4VK1ZMnTp1Urt27dLVj81my5L6LBZLlvQLZDdZNYYAZF/pGfemhoXTp09r6dKl6tGjh/r166fIyEhNnDhR7u7uat26dZr7yYo5Dp6enqpatWqm9wtkR1FRUYqNjTW7jHRxd3dXlapV5O7mbnYpQJaKT4jX0SNHFR8fb1oNpoYFu92u6tWra9iwYZL+ulPYr7/+qmXLlqUrLPj6+nIUAHgIVqvV7BIyxGKxqM8XfRR1McrsUoAsYS1q1eyusx3P6MhMNpstzTvbpoaFIkWKqEKFCk5t3t7e+uabb9LVj8ViISwAD+HvPH6iLkbp0JlDZpcBZCmzx6ipl07WqlVLv//+u1PbyZMnVbJkSZMqAgAA9zM1LLz66qs6ePCg/t//+386deqU1qxZoxUrVqhTp05mlgUAAO5h6mkIPz8/ffbZZ/rkk080c+ZMlSpVSm+++aZeeuklM8sCAAD3MP1BUkFBQQoKCjK7DAAAkArTb/cMAACyN8ICAAAwRFgAAACGCAsAAMAQYQEAABgiLAAAAEOEBQAAYIiwAAAADBEWAACAIcICAAAwRFgAAACGCAsAAMAQYQEAABgiLAAAAEOEBQAAYIiwAAAADBEWAACAIcICAAAwRFgAAACGCAsAAMAQYQEAABgiLAAAAEOEBQAAYIiwAAAADBEWAACAIcICAAAwRFgAAACGCAsAAMAQYQEAABgiLAAAAEOEBQAAYMjNzI2Hhobqs88+c2orX768NmzYYFJFAADgfqaGBUmqVKmS5s2b53htsVhMrAYAANzP9LBgsVhUpEgRs8sAAACpMD0snDp1Sg0bNlSOHDlUs2ZNDR8+XCVKlEhXHzabLUtq4ygHnhRZNYayGmMUT4qsGKPp6dPUsODn56dJkyapfPnyunTpkmbOnKnOnTtrzZo1ypMnT5r7iYyMzPTaPD09VbVq1UzvF8iOoqKiFBsba3YZ6cIYxZPE7DFqalho3Lix4+fKlSurRo0aCgoK0vr16/XKK6+kuR9fX1/2MICHYLVazS4BgIGsGKM2my3NO9umn4a4V758+VSuXDlFR0enaz2LxUJYAB4C4wfI3sweo9nqPgt37tzR6dOnmfAIAEA2YuqRhY8++khBQUEqUaKELl68qNDQULm6uqpFixZmlgUAAO5halj4448/NGzYMF2/fl1eXl6qXbu2VqxYIS8vLzPLAgAA9zA1LPzzn/80c/MAACANstWcBQAAkP0QFgAAgCHCAgAAMERYAAAAhggLAADAEGEBAAAYIiwAAABDhAUAAGCIsAAAAAwRFgAAgCHCAgAAMJThsHDz5k395z//0bRp03T9+nVJ0uHDh3XhwoXMqg0AAGQDGXqQ1LFjx9SjRw/lzZtXZ8+eVbt27VSgQAFt3LhR58+f15QpUzK7TgAAYJIMHVmYPHmyWrdurY0bN8rDw8PR3rhxY+3duzfTigMAAObLUFiIjIxUhw4dkrUXK1ZMly5deuiiAABA9pGhsODh4aHbt28naz958qS8vLweuigAAJB9ZCgsBAcHa+bMmYqPj3e0nTt3Th9//LGeffbZTCsOAACYL0NhYcyYMYqJiVFgYKDu3r2rrl276tlnn1Xu3Lk1dOjQzK4RAACYKENXQ+TNm1fz5s3T3r17FRUVpZiYGFWrVk2BgYGZXR8AADBZhsJCkjp16qhOnTqZVQsAAMiG0hwWFi5cmOZOu3XrlqFiAABA9pPmsDB//nyn19euXVNsbKzy5csn6a87Onp6esrLy4uwAADAYyTNYWHr1q2On9esWaMlS5bogw8+kLe3tyTpxIkTevvtt9W+ffvMrxIAAJgmQ1dDTJ8+XW+//bYjKEiSt7e3xo4dq08//TSzagMAANlAhsLCpUuXlJCQkKw9MTFRV65ceeiiAABA9pGhsFC/fn2NHz9ehw8fdrT9/PPPmjBhgurXr59pxQEAAPNl6NLJDz/8UKNHj1abNm3k5vZXFzabTQ0bNtQHH3yQqQUCAABzZSgseHl5ac6cOfr999914sQJSX/NWShfvnymFgcAAMz3UDdlKl++PAEBAIDHXIbDwh9//KEtW7bo/PnzTg+UkqSxY8c+dGEAACB7yFBYiIiIUP/+/VW6dGmdOHFClSpV0tmzZ2W321W1atXMrhEAAJgoQ1dDTJs2TT179tSaNWvk4eGh0NBQbdu2TQEBAXr++eczVMjs2bNltVqZIAkAQDaTobBw/PhxtWrVSpLk5uamP//8U7lz59brr7+usLCwdPd36NAhLVu2TFarNSPlAACALJShsJArVy7HPIUiRYooOjra8d61a9fS1dedO3c0cuRITZw4Ufnz589IOQAAIAtlaM5CjRo1tG/fPlWoUEGNGzfWRx99pF9++UWbNm1SjRo10tXXe++9p8aNGyswMFD//ve/M1KObDZbhtZ7EIvFkiX9AtlNVo2hrMYYxZMiK8ZoevrMUFgYO3as7ty5I0kaPHiw7ty5o3Xr1qlcuXIaM2ZMmvv573//qyNHjmjlypUZKcMhMjLyodZPiaenJ5M18cSIiopSbGys2WWkC2MUTxKzx2iGwkLp0qUdP+fKlUvvvfdeuvs4f/68PvjgA33++efKkSNHRspw8PX1ZQ8DeAjMFwKyt6wYozabLc072w91U6aHcfjwYV25ckUhISGONpvNpj179mjx4sWKjIxMcwCwWCyEBeAhMH6A7M3sMZrmsBAQECAXF5c0Lbt79+4HLlOvXj2tWbPGqW3s2LHy9vbWa6+9ZvoXAwAA/pLmsPDmm286fr5+/br+/e9/q2HDhqpZs6Yk6cCBA9qxY4cGDBiQpv7y5MkjHx8fp7ZcuXKpQIECydoBAIB50hwWWrdu7fh58ODBGjJkiLp06eJo69atmxYtWqRdu3ape/fumVokAAAwT4bmLOzYsUMjRoxI1t6oUSNNmzYtw8V88cUXGV4XAABkjQzdlKlAgQLasmVLsvYtW7aoQIECD1sTAADIRjJ0ZGHw4MEaN26cdu/eLT8/P0l/3bJ5+/btev/99zO1QAAAYK4MhYWQkBBVqFBBCxcu1KZNmyRJ3t7eWrJkSbrv4AgAALK3DN9noUaNGg81PwEAAPw9pDks3L59W3ny5HH8bCRpOQAA8PeXrpsy7dixQ4UKFVKdOnVSvEGT3W6Xi4uLjh49mqlFAgAA86Q5LCxYsMDxCOmFCxdmWUEAACB7SXNYqFu3ruPnUqVK6amnnkp2dMFut+v8+fOZVx0AADBdhu6z0LRpU129ejVZ+/Xr19W0adOHLgoAAGQfGQoLSXMT7hcTE/PQj5sGAADZS7ounZw0aZIkycXFRZ9++qk8PT0d79lsNh06dEiVK1fO3AoBAICp0hUWjhw5IumvIwu//PKL3N3dHe95eHiocuXK6tmzZ+ZWCAAATJWusJD0oKexY8fqrbfe4n4KAAA8ATJ0B8ek0xEAAODxl6GwEBMTo9mzZ+uHH37QlStXlJiY6PR+Sk+kBAAAf08ZCgtJT5x8+eWXVaRIkRSvjAAAAI+HDIWF77//XrNmzVLt2rUzux4AAJDNZOg+C/ny5VOBAgUyuRQAAJAdZSgsvP7665o+fbpiY2Mzux4AAJDNZOg0xLx58xQdHa3AwECVKlVKbm7O3axevTpTigMAAObLUFho1qxZZtcBAACyqQyFhUGDBmV2HQAAIJvK0JwFAADw5MjQkQWbzab58+dr/fr1On/+vOLj453e3717d6YUBwAAzJehIwufffaZ5s2bpxdffFG3bt1S9+7d1bx5c7m4uHCKAgCAx0yGjiysWbNGEydOVJMmTRQaGqoWLVqoTJkyslqtOnjwYGbXCAAATJShIwuXL1+Wj4+PJCl37ty6deuWJCkoKEjbtm3LtOIAAID5MhQWihUrpkuXLkmSSpcurZ07d0qSIiMj5eHhkXnVAQAA02XoNETz5s0VERGhGjVqqGvXrho5cqRWrlypc+fOqXv37plcIgAAMFOGwsKIESMcP7/44ot66qmndODAAZUtW1bBwcGZVhwAADBfhsLC/fz9/eXv758ZXQEAgGwmQ2EhPDzc8P1WrVqlqZ8lS5Zo6dKlOnv2rCSpUqVKGjBggBo3bpyRsgAAQBbIUFj44IMPnF4nJCQoNjZW7u7u8vT0THNYKF68uEaMGKGyZcvKbrcrPDxcAwcO1OrVq1WpUqWMlAYAADJZhsLCnj17krWdPHlSEyZMUK9evdLcz/3zG4YOHaqlS5fqwIEDhAUAALKJTJmzIEnlypXT8OHDNXLkSG3YsCHd69tsNm3YsEExMTHpnv9gs9nSvb20sFgsWdIvkN1k1RjKaoxRPCmyYoymp89MCwuS5ObmposXL6ZrnaioKHXo0EF3795Vrly5NHPmTFWsWDFdfURGRqZr+bTw9PRU1apVM71fIDuKiopSbGys2WWkC2MUTxKzx2iGwsKWLVucXtvtdl26dEmLFy9WrVq10tVX+fLlFR4erlu3bumbb77R6NGjtWjRonQFBl9fX/YwgIdgtVrNLgGAgawYozabLc072xkKCwMHDnR67eLiIi8vL9WrV0+jR49OV18eHh4qW7asJKl69eqKjIzUwoUL9d5776W5D4vFQlgAHgLjB8jezB6jGQoLx44dkyRdvXpV7u7uyps3b6YVlJiYqLi4uEzrDwAAPJx0h4WbN2/qn//8p9atW6ebN29Kkry8vBQSEqIBAwbI09MzzX1NmzZNzzzzjJ566induXNHa9eu1e7duzV37tz0lgUAALJIusLC9evX1b59e128eFEtW7aUt7e3JOn48eNatGiRdu7cqaVLlyoqKkoHDhxQt27dDPu7cuWKRo8erYsXLypv3ryyWq2aO3euGjRokPFPBAAAMlW6wsLMmTPl4eGhTZs2qXDhwk7vDRkyRD179tTIkSO1c+dOjRs37oH9ffjhh+mrFgAAPHLpekT1li1bNGrUqGRBQZKKFCmikSNHauPGjerRo4dat26daUUCAADzpCssXLx40fDOij4+PnJ1ddWgQYMeujAAAJA9pCssFCxYUGfOnEn1/TNnzsjLy+uhiwIAANlHusJCw4YN9emnn6Z4aWNcXJymT5+uRo0aZVpxAADAfOma4Pj666+rTZs2eu6559SpUyd5e3vLbrfrxIkTWrJkieLi4vTRRx9lVa0AAMAE6QoLxYsX17Jly/Tuu+/qk08+kd1ul/TXHRwDAwP1zjvvqESJEllSKAAAMEe6b8pUunRphYWF6caNGzp16pQkqUyZMipQoEBm1wYAALKBDD91Mn/+/PLz88vMWgAAQDaUrgmOAADgyUNYAAAAhggLAADAEGEBAAAYIiwAAABDhAUAAGCIsAAAAAwRFgAAgCHCAgAAMERYAAAAhggLAADAEGEBAAAYIiwAAABDhAUAAGCIsAAAAAwRFgAAgCHCAgAAMERYAAAAhggLAADAEGEBAAAYIiwAAABDhAUAAGCIsAAAAAy5mbnxWbNmaePGjTpx4oRy5swpf39/jRgxQt7e3maWBQAA7mHqkYXdu3erc+fOWrFihebNm6eEhAT16tVLMTExZpYFAADuYeqRhblz5zq9njx5surXr6/Dhw8rICDApKoAAMC9TA0L97t165YkKX/+/Olaz2azZUU5slgsWdIvkN1k1RjKaoxRPCmyYoymp89sExYSExP14YcfqlatWvLx8UnXupGRkZlej6enp6pWrZrp/QLZUVRUlGJjY80uI10Yo3iSmD1Gs01YePfdd/Xrr79qyZIl6V7X19eXPQzgIVitVrNLAGAgK8aozWZL8852tggL7733nrZt26ZFixapePHi6V7fYrEQFoCHwPgBsjezx6ipYcFut+v999/Xpk2b9MUXX6h06dJmlgMAAFJgalh49913tXbtWv3rX/9S7ty5denSJUlS3rx5lTNnTjNLAwAA/2NqWFi6dKkkqWvXrk7tkyZNUkhIiBklAQCA+5gaFqKioszcPAAASAOeDQEAAAwRFgAAgCHCAgAAMERYAAAAhggLAADAEGEBAAAYIiwAAABDhAUAAGCIsAAAAAwRFgAAgCHCAgAAMERYAAAAhggLAADAEGEBAAAYIiwAAABDhAUAAGCIsAAAAAwRFgAAgCHCAgAAMERYAAAAhggLAADAEGEBAAAYIiwAAABDhAUAAGCIsAAAAAwRFgAAgCHCAgAAMERYAAAAhggLAADAEGEBAAAYIiwAAABDpoaFPXv2qF+/fmrYsKGsVqs2b95sZjkAACAFpoaFmJgYWa1WjR8/3swyAACAATczN964cWM1btzYzBIAAMADmBoWMovNZsuSfi0WS5b0C2Q3WTWGshpjFE+KrBij6enzsQgLkZGRmd6np6enqlatmun9AtlRVFSUYmNjzS4jXRijeJKYPUYfi7Dg6+vLHgbwEKxWq9klADCQFWPUZrOleWf7sQgLFouFsAA8BMYPkL2ZPUa5zwIAADBk6pGFO3fuKDo62vH6zJkzOnr0qPLnz68SJUqYWBkAAEhialj4+eef1a1bN8frSZMmSZJat26tyZMnm1UWAAC4h6lh4emnn1ZUVJSZJQAAgAdgzgIAADBEWAAAAIYICwAAwBBhAQAAGCIsAAAAQ4QFAABgiLAAAAAMERYAAIAhwgIAADBEWAAAAIYICwAAwBBhAQAAGCIsAAAAQ4QFAABgiLAAAAAMERYAAIAhwgIAADBEWAAAAIYICwAAwBBhAQAAGCIsAAAAQ4QFAABgiLAAAAAMERYAAIAhwgIAADBEWAAAAIYICwAAwBBhAQAAGCIsAAAAQ4QFAABgiLAAAAAMZYuwsHjxYgUHB8vX11evvPKKDh06ZHZJAADgf0wPC+vWrdOkSZM0cOBArV69WpUrV1avXr105coVs0sDAADKBmFh3rx5ateundq0aaOKFSvq3XffVc6cOfXll1+aXRoAAJDkZubG4+LidPjwYfXt29fR5urqqsDAQO3fv/+B69vtdkc/Fosl0+uzWCyyVKkitxw5Mr1vIDuweHvLZrPJZrOZXUqGWCwWVS9eXTksjFE8nioVqZRlYzSpz6S/pUZMDQvXrl2TzWZToUKFnNoLFSqkEydOPHD9xMRESdKRI0eypD5JUocOWdc3kA2cOXDA7BIeSs/KPaXKZlcBZJ0DWTxGk/6WGjE1LDwsNzc3+fr6ytXVVS4uLmaXAwDA34bdbldiYqLc3B4cBUwNCwULFpTFYkk2mfHKlSsqXLjwA9d3dXWVh4dHVpUHAABk8gRHDw8PVatWTREREY62xMRERUREyN/f38TKAABAEtNPQ/To0UOjR49W9erV5efnpwULFig2NlYhISFmlwYAAJQNwsKLL76oq1evasaMGbp06ZKqVKmisLCwNJ2GAAAAWc/FnpZrJgAAwBPL9JsyAQCA7I2wAAAADBEWAACAIcICsoWNGzeqTp06+vTTT7Vz5069++67ZpcE4H+sVqs2b95sdhkwEWEBWWrMmDGyWq2aPXu2U/vmzZtltVodrzdu3KgpU6bo4sWLmjBhglq3bv2oSwWeWFevXtX48ePVpEkTVa9eXQ0aNFCvXr20b98+SdKOHTv0zDPPmFwlzGT6pZN4/OXIkUNz5sxR+/btlT9//hSX+fjjjyVJwcHBj7I0AJIGDx6s+Ph4TZ48WaVLl9aVK1cUERGh69evS5KKFCliboEwHUcWkOUCAwNVuHBhzZo1K8X3r127pmHDhqlRo0aqUaOGWrZsqbVr1zotExcXp4kTJ6p+/fry9fVVx44ddejQoUdRPvBYu3nzpvbu3asRI0aoXr16KlmypPz8/NS3b181bdpUkvNpiDNnzshqtWrdunXq1KmT/Pz81KZNG/3+++86dOiQQkJC5O/vr969e+vq1atmfjRkIsICspyrq6uGDRumRYsW6Y8//kj2flxcnKpVq6bZs2dr7dq1ateunUaNGuUUBqZMmaJvvvlGkydP1urVq1W2bFn17t3bsecDIGNy5cqlXLlyafPmzYqLi0vzeqGhoerfv79Wr14tNzc3DR8+XFOnTtVbb72lxYsXKzo6WtOnT8/CyvEoERbwSDRv3lxVqlTRjBkzkr1XrFgx9erVS1WqVFHp0qXVtWtXNWrUSOvXr5ckxcTEaNmyZRo1apQaN26sihUr6v3331eOHDm0cuXKR/1RgMeKm5ubJk+erPDwcNWpU0cdOnTQJ598omPHjhmu17NnTzVq1EgVKlRQt27ddPjwYQ0YMEC1a9dW1apV1bZtW/3444+P6FMgqxEW8MiMGDFC4eHhOn78uFO7zWbTzJkz1bJlS9WtW1f+/v7asWOHzp07J0mKjo5WfHy8atWq5VjH3d1dfn5+yfoCkH7PPfectm/frn//+99q1KiRdu/erZCQEK1atSrVde6doFyoUKEU2zgN8fggLOCRCQgIUMOGDTVt2jSn9rlz52rhwoXq3bu3Fi5cqPDwcDVs2FDx8fEmVQo8eXLkyKEGDRpo4MCBWrZsmVq3bq3Q0NBUl3d3d3f87OLiIumvoxT3tiUmJmZdwXikCAt4pIYPH65vv/1W+/fvd7T99NNPatq0qV5++WVVrlxZpUuX1smTJx3vlylTRu7u7vrpp58cbfHx8YqMjFTFihUfZfnAE6NixYqKiYkxuwxkE1w6iUfKarWqZcuW+uKLLxxtZcuW1TfffKOffvpJ+fPn17x583T58mVVqFBB0l8TsDp27KgpU6Yof/78KlGihMLCwvTnn3+qbdu2Zn0U4LFw7do1vf7662rTpo2sVqty586tn3/+WWFhYY6rIQDCAh65IUOGaN26dY7X/fv31+nTp9WrVy95enqqXbt2atasmW7duuVYZsSIEbLb7Ro1apTu3Lmj6tWrKywsLNX7NgBIm9y5c6tGjRpasGCBoqOjlZCQoOLFi+uVV15Rv379zC4P2QSPqAYAAIaYswAAAAwRFgAAgCHCAgAAMERYAAAAhggLAADAEGEBAAAYIiwAAABDhAUAAGCIsAAAAAwRFgA4XL16VePHj1eTJk1UvXp1NWjQQL169dK+ffsk/fVsj82bN6e73+DgYM2fPz+TqwXwqPBsCAAOgwcPVnx8vCZPnqzSpUvrypUrioiI0PXr180uDYCJeDYEAEnSzZs3FRAQoC+++EJ169ZN9n5wcLDOnj3reF2yZElt3bpV0dHRmjRpkg4ePKjY2Fh5e3tr+PDhCgwMlCR17dpVu3fvduorKipKoaGh2rx5s7766itH+/z587Vw4UJt3bpVkvTjjz9q6tSp+u233+Tm5qaKFStq2rRpKlmyZFZ8BQBSwWkIAJL+ehR4rly5tHnzZsXFxSV7f+XKlZKkSZMmaceOHY7XMTExaty4sebPn6/Vq1erUaNG6tevn86dOydJCg0NVfHixTVkyBDt2LFDO3bsSFM9CQkJGjhwoAICAvT1119r+fLlat++vVxcXDLpEwNIK05DAJAkubm5afLkyXr77be1bNkyVa1aVXXr1tWLL76oypUry8vLS5KUL18+FSlSxLFe5cqVVblyZcfrN954Q5s3b9bWrVvVpUsXFShQQBaLRblz53Za70Fu376tW7duKSgoSGXKlJEkVahQIZM+LYD0ICwAcHjuuefUpEkT7d27VwcOHND27dsVFhamiRMnKiQkJMV17ty5o88++0zbtm3TpUuXZLPZ9OeffzqOLGRUgQIFFBISol69eqlBgwaqX7++XnjhBRUtWvSh+gWQfpyGAOAkR44catCggQYOHKhly5apdevWCg0NTXX5jz76SJs2bdKwYcO0ePFihYeHy8fHR/Hx8YbbcXFx0f1TphISEpxeT5o0ScuXL5e/v7/Wr1+v5557TgcOHMjwZwOQMYQFAIYqVqyomJgYSZK7u7tsNpvT+/v371fr1q3VvHlzWa1WFS5c2GkiZNJ6iYmJTm1eXl66fPmyU2A4evRosu1XrVpVffv21bJly+Tj46O1a9dm1kcDkEaEBQCSpGvXrqlbt2766quvdOzYMZ0+fVrr169XWFiYmjZtKumvKyAiIiJ06dIl3bhxQ5JUtmxZbdq0SUePHtWxY8c0fPjwZMGgZMmS2rNnjy5cuKCrV69Kkp5++mldvXpVc+bMUXR0tBYvXqzt27c71jl9+rSmTZum/fv36+zZs9qxY4dOnjwpb2/vR/SNAEjCpZMAJElxcXEKDQ3Vzp07FR0drYSEBBUvXlzPP/+8+vXrp5w5c2rr1q2aPHmyzp49q2LFimnr1q06c+aM3nzzTR08eFAFCxbUa6+9pg0bNqhy5cp66623JEkHDhzQO++8o99//11xcXGKioqSJC1dulSzZs3SjRs39Oyzz6p8+fJasWKFtm7dqsuXL2v8+PE6ePCgrl+/rqJFi6pVq1YaNGiQXF3ZzwEeJcICAAAwRDwHAACGCAsAAMAQYQEAABgiLAAAAEOEBQAAYIiwAAAADBEWAACAIcICAAAwRFgAAACGCAsAAMAQYQEAABj6/+LrQzy9gP6qAAAAAElFTkSuQmCC\n"
                },
                "metadata": {}
              },
              {
                "output_type": "display_data",
                "data": {
                  "text/plain": "<Figure size 500x500 with 1 Axes>",
                  "image/png": "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\n"
                },
                "metadata": {}
              }
            ]
          }
        },
        "1592b53752e449de98b2f1b122b1cd3a": {
          "model_module": "@jupyter-widgets/base",
          "model_name": "LayoutModel",
          "model_module_version": "1.2.0",
          "state": {
            "_model_module": "@jupyter-widgets/base",
            "_model_module_version": "1.2.0",
            "_model_name": "LayoutModel",
            "_view_count": null,
            "_view_module": "@jupyter-widgets/base",
            "_view_module_version": "1.2.0",
            "_view_name": "LayoutView",
            "align_content": null,
            "align_items": null,
            "align_self": null,
            "border": null,
            "bottom": null,
            "display": null,
            "flex": null,
            "flex_flow": null,
            "grid_area": null,
            "grid_auto_columns": null,
            "grid_auto_flow": null,
            "grid_auto_rows": null,
            "grid_column": null,
            "grid_gap": null,
            "grid_row": null,
            "grid_template_areas": null,
            "grid_template_columns": null,
            "grid_template_rows": null,
            "height": null,
            "justify_content": null,
            "justify_items": null,
            "left": null,
            "margin": null,
            "max_height": null,
            "max_width": null,
            "min_height": null,
            "min_width": null,
            "object_fit": null,
            "object_position": null,
            "order": null,
            "overflow": null,
            "overflow_x": null,
            "overflow_y": null,
            "padding": null,
            "right": null,
            "top": null,
            "visibility": null,
            "width": null
          }
        }
      }
    }
  },
  "cells": [
    {
      "cell_type": "markdown",
      "metadata": {
        "id": "view-in-github",
        "colab_type": "text"
      },
      "source": [
        "<a href=\"https://colab.research.google.com/github/claudinez/Educ360_Atividade_Grafico_Clube/blob/main/Atividade_Grafico_Clube.ipynb\" target=\"_parent\"><img src=\"https://colab.research.google.com/assets/colab-badge.svg\" alt=\"Open In Colab\"/></a>"
      ]
    },
    {
      "cell_type": "code",
      "execution_count": null,
      "metadata": {
        "id": "lAj6QsUTbr0j"
      },
      "outputs": [],
      "source": [
        "import pandas as pd\n",
        "import numpy as np\n",
        "import plotly.express as px\n",
        "\n",
        "# Carregar dados\n",
        "df = pd.read_csv('https://raw.githubusercontent.com/profivan-ai/cdb-Python/refs/heads/main/arquivos/compras.csv', sep=\";\")\n",
        "df"
      ]
    },
    {
      "cell_type": "code",
      "source": [
        "# Substituir 0 por \"Não Tem\" e 1 por \"Sim Tem\" na coluna 'clube'\n",
        "# Para colunas, sempre use .map(), .apply() ou np.where()\n",
        "# df['clube'] = df['clube'].map({0: 'Não', 1: 'Sim'})\n",
        "# df['clube_texto'] = np.where(df['clube'] == 1, \"Sim\", \"Não\")\n",
        "df['clube_texto'] = df['clube'].apply(lambda x: \"Sim\" if x==1 else \"Não\")\n",
        "df"
      ],
      "metadata": {
        "id": "FAe9cSn0_BmE"
      },
      "execution_count": null,
      "outputs": []
    },
    {
      "cell_type": "code",
      "source": [
        "# Agrupar por dia e clube\n",
        "df_clube_dia = df.groupby(['dia','clube'], sort=False).agg({'valor': np.sum}).reset_index()\n",
        "\n",
        "# Ordenar dias da semana\n",
        "dias_ordenados = [\"segunda-feira\",\"terca-feira\",\"quarta-feira\",\"quinta-feira\",\"sexta-feira\",\"sabado\",\"domingo\"]\n",
        "df_clube_dia['dia'] = pd.Categorical(df_clube_dia['dia'], categories=dias_ordenados, ordered=True)\n",
        "df_clube_dia = df_clube_dia.sort_values('dia')\n",
        "df"
      ],
      "metadata": {
        "id": "kJ8nbFoh_aX0"
      },
      "execution_count": null,
      "outputs": []
    },
    {
      "cell_type": "code",
      "source": [
        "# Gráfico de barras\n",
        "fig = px.bar(\n",
        "    df_clube_dia,\n",
        "    x='dia',\n",
        "    y='valor',\n",
        "    color='clube',   # agora aparece \"Sim\" e \"Não\"\n",
        "    barmode='group',\n",
        "    text='valor',\n",
        "    title='Gasto por Clube e Dia'\n",
        ")\n",
        "fig.show()"
      ],
      "metadata": {
        "id": "vfpaHEjm_eZN"
      },
      "execution_count": null,
      "outputs": []
    },
    {
      "cell_type": "code",
      "source": [
        "import pandas as pd\n",
        "import matplotlib.pyplot as plt\n",
        "\n",
        "# Lendo o arquivo\n",
        "df = pd.read_csv('https://raw.githubusercontent.com/profivan-ai/cdb-Python/refs/heads/main/arquivos/compras.csv', sep=\";\")\n",
        "\n",
        "# A coluna chama 'clube'  0 e 1\n",
        "# Criando gráfico direto usando map no value_counts\n",
        "contagem = df['clube'].map({0:\"Não\", 1:\"Sim\"}).value_counts()\n",
        "\n",
        "# Gráfico de barras\n",
        "contagem.plot(kind='bar', color=['red','green'])\n",
        "plt.title(\"Clube: Sim x Não\")\n",
        "plt.xlabel(\"Status\")\n",
        "plt.ylabel(\"Quantidade\")\n",
        "plt.show()\n"
      ],
      "metadata": {
        "colab": {
          "base_uri": "https://localhost:8080/",
          "height": 485
        },
        "id": "hJui_xK7haBQ",
        "outputId": "a892d416-cdeb-4b20-e854-ed5a54820bb4"
      },
      "execution_count": 11,
      "outputs": [
        {
          "output_type": "display_data",
          "data": {
            "text/plain": [
              "<Figure size 640x480 with 1 Axes>"
            ],
            "image/png": "[encoded data removed]"
          },
          "metadata": {}
        }
      ]
    },
    {
      "cell_type": "code",
      "source": [
        "import pandas as pd\n",
        "import seaborn as sns\n",
        "import matplotlib.pyplot as plt\n",
        "\n",
        "# Lendo o arquivo\n",
        "df = pd.read_csv('https://raw.githubusercontent.com/profivan-ai/cdb-Python/refs/heads/main/arquivos/compras.csv', sep=\";\")\n",
        "\n",
        "# Mapeando 0/1 para Não/Sim\n",
        "df['clube_texto'] = df['clube'].map({0:\"Não\", 1:\"Sim\"})\n",
        "\n",
        "# Gráfico de barras com Seaborn\n",
        "sns.countplot(data=df, x='clube_texto', palette=['red', 'green'])\n",
        "plt.title(\"Clube: Sim x Não\")\n",
        "plt.xlabel(\"Status\")\n",
        "plt.ylabel(\"Quantidade\")\n",
        "plt.show()\n"
      ],
      "metadata": {
        "colab": {
          "base_uri": "https://localhost:8080/",
          "height": 614
        },
        "id": "zsPcqLq5iKsS",
        "outputId": "b1e3f1dc-5554-40c7-c74b-a5fa91c2998d"
      },
      "execution_count": 12,
      "outputs": [
        {
          "output_type": "stream",
          "name": "stderr",
          "text": [
            "/tmp/ipython-input-2271341978.py:12: FutureWarning:\n",
            "\n",
            "\n",
            "\n",
            "Passing `palette` without assigning `hue` is deprecated and will be removed in v0.14.0. Assign the `x` variable to `hue` and set `legend=False` for the same effect.\n",
            "\n",
            "\n"
          ]
        },
        {
          "output_type": "display_data",
          "data": {
            "text/plain": [
              "<Figure size 640x480 with 1 Axes>"
            ],
            "image/png": "[encoded data removed]"
          },
          "metadata": {}
        }
      ]
    },
    {
      "cell_type": "code",
      "source": [
        "import pandas as pd\n",
        "import plotly.express as px\n",
        "\n",
        "# Lendo o arquivo\n",
        "df = pd.read_csv('https://raw.githubusercontent.com/profivan-ai/cdb-Python/refs/heads/main/arquivos/compras.csv', sep=\";\")\n",
        "\n",
        "# Criando gráfico e mapeando 0 → Não e 1 → Sim direto no eixo X\n",
        "fig = px.bar(\n",
        "    df.replace({'clube': {0: 'Não', 1: 'Sim'}}),   # converte só na exibição\n",
        "    x='clube',\n",
        "    title='Participação do Clube Vantagem (Sim x Não)',\n",
        "    color='clube',\n",
        "    color_discrete_map={'Sim':'green', 'Não':'red'}\n",
        ")\n",
        "\n",
        "# Exibindo\n",
        "fig.show()\n"
      ],
      "metadata": {
        "colab": {
          "base_uri": "https://localhost:8080/",
          "height": 542
        },
        "id": "EgzNga7hiaJ_",
        "outputId": "eebb614c-74c9-48d4-dc22-ca8ea99c6295"
      },
      "execution_count": 15,
      "outputs": [
        {
          "output_type": "display_data",
          "data": {
            "text/html": [
              "<html>\n",
              "<head><meta charset=\"utf-8\" /></head>\n",
              "<body>\n",
              "    <div>            <script src=\"https://cdnjs.cloudflare.com/ajax/libs/mathjax/2.7.5/MathJax.js?config=TeX-AMS-MML_SVG\"></script><script type=\"text/javascript\">if (window.MathJax && window.MathJax.Hub && window.MathJax.Hub.Config) {window.MathJax.Hub.Config({SVG: {font: \"STIX-Web\"}});}</script>                <script type=\"text/javascript\">window.PlotlyConfig = {MathJaxConfig: 'local'};</script>\n",
              "        <script charset=\"utf-8\" src=\"https://cdn.plot.ly/plotly-2.35.2.min.js\"></script>                <div id=\"c7b315e4-eaa2-40b3-b447-379243a0fd1e\" class=\"plotly-graph-div\" style=\"height:525px; width:100%;\"></div>            <script type=\"text/javascript\">                                    window.PLOTLYENV=window.PLOTLYENV || {};                                    if (document.getElementById(\"c7b315e4-eaa2-40b3-b447-379243a0fd1e\")) {                    Plotly.newPlot(                        \"c7b315e4-eaa2-40b3-b447-379243a0fd1e\",                        [{\"alignmentgroup\":\"True\",\"hovertemplate\":\"clube=%{x}\\u003cbr\\u003ecount=%{y}\\u003cextra\\u003e\\u003c\\u002fextra\\u003e\",\"legendgroup\":\"Sim\",\"marker\":{\"color\":\"green\",\"pattern\":{\"shape\":\"\"}},\"name\":\"Sim\",\"offsetgroup\":\"Sim\",\"orientation\":\"v\",\"showlegend\":true,\"textposition\":\"auto\",\"x\":[\"Sim\",\"Sim\",\"Sim\",\"Sim\",\"Sim\",\"Sim\",\"Sim\",\"Sim\",\"Sim\",\"Sim\",\"Sim\",\"Sim\",\"Sim\",\"Sim\",\"Sim\"],\"xaxis\":\"x\",\"y\":[1,1,1,1,1,1,1,1,1,1,1,1,1,1,1],\"yaxis\":\"y\",\"type\":\"bar\"},{\"alignmentgroup\":\"True\",\"hovertemplate\":\"clube=%{x}\\u003cbr\\u003ecount=%{y}\\u003cextra\\u003e\\u003c\\u002fextra\\u003e\",\"legendgroup\":\"Não\",\"marker\":{\"color\":\"red\",\"pattern\":{\"shape\":\"\"}},\"name\":\"Não\",\"offsetgroup\":\"Não\",\"orientation\":\"v\",\"showlegend\":true,\"textposition\":\"auto\",\"x\":[\"Não\",\"Não\",\"Não\",\"Não\",\"Não\",\"Não\",\"Não\",\"Não\",\"Não\",\"Não\",\"Não\",\"Não\",\"Não\"],\"xaxis\":\"x\",\"y\":[1,1,1,1,1,1,1,1,1,1,1,1,1],\"yaxis\":\"y\",\"type\":\"bar\"}],                        {\"template\":{\"data\":{\"histogram2dcontour\":[{\"type\":\"histogram2dcontour\",\"colorbar\":{\"outlinewidth\":0,\"ticks\":\"\"},\"colorscale\":[[0.0,\"#0d0887\"],[0.1111111111111111,\"#46039f\"],[0.2222222222222222,\"#7201a8\"],[0.3333333333333333,\"#9c179e\"],[0.4444444444444444,\"#bd3786\"],[0.5555555555555556,\"#d8576b\"],[0.6666666666666666,\"#ed7953\"],[0.7777777777777778,\"#fb9f3a\"],[0.8888888888888888,\"#fdca26\"],[1.0,\"#f0f921\"]]}],\"choropleth\":[{\"type\":\"choropleth\",\"colorbar\":{\"outlinewidth\":0,\"ticks\":\"\"}}],\"histogram2d\":[{\"type\":\"histogram2d\",\"colorbar\":{\"outlinewidth\":0,\"ticks\":\"\"},\"colorscale\":[[0.0,\"#0d0887\"],[0.1111111111111111,\"#46039f\"],[0.2222222222222222,\"#7201a8\"],[0.3333333333333333,\"#9c179e\"],[0.4444444444444444,\"#bd3786\"],[0.5555555555555556,\"#d8576b\"],[0.6666666666666666,\"#ed7953\"],[0.7777777777777778,\"#fb9f3a\"],[0.8888888888888888,\"#fdca26\"],[1.0,\"#f0f921\"]]}],\"heatmap\":[{\"type\":\"heatmap\",\"colorbar\":{\"outlinewidth\":0,\"ticks\":\"\"},\"colorscale\":[[0.0,\"#0d0887\"],[0.1111111111111111,\"#46039f\"],[0.2222222222222222,\"#7201a8\"],[0.3333333333333333,\"#9c179e\"],[0.4444444444444444,\"#bd3786\"],[0.5555555555555556,\"#d8576b\"],[0.6666666666666666,\"#ed7953\"],[0.7777777777777778,\"#fb9f3a\"],[0.8888888888888888,\"#fdca26\"],[1.0,\"#f0f921\"]]}],\"heatmapgl\":[{\"type\":\"heatmapgl\",\"colorbar\":{\"outlinewidth\":0,\"ticks\":\"\"},\"colorscale\":[[0.0,\"#0d0887\"],[0.1111111111111111,\"#46039f\"],[0.2222222222222222,\"#7201a8\"],[0.3333333333333333,\"#9c179e\"],[0.4444444444444444,\"#bd3786\"],[0.5555555555555556,\"#d8576b\"],[0.6666666666666666,\"#ed7953\"],[0.7777777777777778,\"#fb9f3a\"],[0.8888888888888888,\"#fdca26\"],[1.0,\"#f0f921\"]]}],\"contourcarpet\":[{\"type\":\"contourcarpet\",\"colorbar\":{\"outlinewidth\":0,\"ticks\":\"\"}}],\"contour\":[{\"type\":\"contour\",\"colorbar\":{\"outlinewidth\":0,\"ticks\":\"\"},\"colorscale\":[[0.0,\"#0d0887\"],[0.1111111111111111,\"#46039f\"],[0.2222222222222222,\"#7201a8\"],[0.3333333333333333,\"#9c179e\"],[0.4444444444444444,\"#bd3786\"],[0.5555555555555556,\"#d8576b\"],[0.6666666666666666,\"#ed7953\"],[0.7777777777777778,\"#fb9f3a\"],[0.8888888888888888,\"#fdca26\"],[1.0,\"#f0f921\"]]}],\"surface\":[{\"type\":\"surface\",\"colorbar\":{\"outlinewidth\":0,\"ticks\":\"\"},\"colorscale\":[[0.0,\"#0d0887\"],[0.1111111111111111,\"#46039f\"],[0.2222222222222222,\"#7201a8\"],[0.3333333333333333,\"#9c179e\"],[0.4444444444444444,\"#bd3786\"],[0.5555555555555556,\"#d8576b\"],[0.6666666666666666,\"#ed7953\"],[0.7777777777777778,\"#fb9f3a\"],[0.8888888888888888,\"#fdca26\"],[1.0,\"#f0f921\"]]}],\"mesh3d\":[{\"type\":\"mesh3d\",\"colorbar\":{\"outlinewidth\":0,\"ticks\":\"\"}}],\"scatter\":[{\"fillpattern\":{\"fillmode\":\"overlay\",\"size\":10,\"solidity\":0.2},\"type\":\"scatter\"}],\"parcoords\":[{\"type\":\"parcoords\",\"line\":{\"colorbar\":{\"outlinewidth\":0,\"ticks\":\"\"}}}],\"scatterpolargl\":[{\"type\":\"scatterpolargl\",\"marker\":{\"colorbar\":{\"outlinewidth\":0,\"ticks\":\"\"}}}],\"bar\":[{\"error_x\":{\"color\":\"#2a3f5f\"},\"error_y\":{\"color\":\"#2a3f5f\"},\"marker\":{\"line\":{\"color\":\"#E5ECF6\",\"width\":0.5},\"pattern\":{\"fillmode\":\"overlay\",\"size\":10,\"solidity\":0.2}},\"type\":\"bar\"}],\"scattergeo\":[{\"type\":\"scattergeo\",\"marker\":{\"colorbar\":{\"outlinewidth\":0,\"ticks\":\"\"}}}],\"scatterpolar\":[{\"type\":\"scatterpolar\",\"marker\":{\"colorbar\":{\"outlinewidth\":0,\"ticks\":\"\"}}}],\"histogram\":[{\"marker\":{\"pattern\":{\"fillmode\":\"overlay\",\"size\":10,\"solidity\":0.2}},\"type\":\"histogram\"}],\"scattergl\":[{\"type\":\"scattergl\",\"marker\":{\"colorbar\":{\"outlinewidth\":0,\"ticks\":\"\"}}}],\"scatter3d\":[{\"type\":\"scatter3d\",\"line\":{\"colorbar\":{\"outlinewidth\":0,\"ticks\":\"\"}},\"marker\":{\"colorbar\":{\"outlinewidth\":0,\"ticks\":\"\"}}}],\"scattermapbox\":[{\"type\":\"scattermapbox\",\"marker\":{\"colorbar\":{\"outlinewidth\":0,\"ticks\":\"\"}}}],\"scatterternary\":[{\"type\":\"scatterternary\",\"marker\":{\"colorbar\":{\"outlinewidth\":0,\"ticks\":\"\"}}}],\"scattercarpet\":[{\"type\":\"scattercarpet\",\"marker\":{\"colorbar\":{\"outlinewidth\":0,\"ticks\":\"\"}}}],\"carpet\":[{\"aaxis\":{\"endlinecolor\":\"#2a3f5f\",\"gridcolor\":\"white\",\"linecolor\":\"white\",\"minorgridcolor\":\"white\",\"startlinecolor\":\"#2a3f5f\"},\"baxis\":{\"endlinecolor\":\"#2a3f5f\",\"gridcolor\":\"white\",\"linecolor\":\"white\",\"minorgridcolor\":\"white\",\"startlinecolor\":\"#2a3f5f\"},\"type\":\"carpet\"}],\"table\":[{\"cells\":{\"fill\":{\"color\":\"#EBF0F8\"},\"line\":{\"color\":\"white\"}},\"header\":{\"fill\":{\"color\":\"#C8D4E3\"},\"line\":{\"color\":\"white\"}},\"type\":\"table\"}],\"barpolar\":[{\"marker\":{\"line\":{\"color\":\"#E5ECF6\",\"width\":0.5},\"pattern\":{\"fillmode\":\"overlay\",\"size\":10,\"solidity\":0.2}},\"type\":\"barpolar\"}],\"pie\":[{\"automargin\":true,\"type\":\"pie\"}]},\"layout\":{\"autotypenumbers\":\"strict\",\"colorway\":[\"#636efa\",\"#EF553B\",\"#00cc96\",\"#ab63fa\",\"#FFA15A\",\"#19d3f3\",\"#FF6692\",\"#B6E880\",\"#FF97FF\",\"#FECB52\"],\"font\":{\"color\":\"#2a3f5f\"},\"hovermode\":\"closest\",\"hoverlabel\":{\"align\":\"left\"},\"paper_bgcolor\":\"white\",\"plot_bgcolor\":\"#E5ECF6\",\"polar\":{\"bgcolor\":\"#E5ECF6\",\"angularaxis\":{\"gridcolor\":\"white\",\"linecolor\":\"white\",\"ticks\":\"\"},\"radialaxis\":{\"gridcolor\":\"white\",\"linecolor\":\"white\",\"ticks\":\"\"}},\"ternary\":{\"bgcolor\":\"#E5ECF6\",\"aaxis\":{\"gridcolor\":\"white\",\"linecolor\":\"white\",\"ticks\":\"\"},\"baxis\":{\"gridcolor\":\"white\",\"linecolor\":\"white\",\"ticks\":\"\"},\"caxis\":{\"gridcolor\":\"white\",\"linecolor\":\"white\",\"ticks\":\"\"}},\"coloraxis\":{\"colorbar\":{\"outlinewidth\":0,\"ticks\":\"\"}},\"colorscale\":{\"sequential\":[[0.0,\"#0d0887\"],[0.1111111111111111,\"#46039f\"],[0.2222222222222222,\"#7201a8\"],[0.3333333333333333,\"#9c179e\"],[0.4444444444444444,\"#bd3786\"],[0.5555555555555556,\"#d8576b\"],[0.6666666666666666,\"#ed7953\"],[0.7777777777777778,\"#fb9f3a\"],[0.8888888888888888,\"#fdca26\"],[1.0,\"#f0f921\"]],\"sequentialminus\":[[0.0,\"#0d0887\"],[0.1111111111111111,\"#46039f\"],[0.2222222222222222,\"#7201a8\"],[0.3333333333333333,\"#9c179e\"],[0.4444444444444444,\"#bd3786\"],[0.5555555555555556,\"#d8576b\"],[0.6666666666666666,\"#ed7953\"],[0.7777777777777778,\"#fb9f3a\"],[0.8888888888888888,\"#fdca26\"],[1.0,\"#f0f921\"]],\"diverging\":[[0,\"#8e0152\"],[0.1,\"#c51b7d\"],[0.2,\"#de77ae\"],[0.3,\"#f1b6da\"],[0.4,\"#fde0ef\"],[0.5,\"#f7f7f7\"],[0.6,\"#e6f5d0\"],[0.7,\"#b8e186\"],[0.8,\"#7fbc41\"],[0.9,\"#4d9221\"],[1,\"#276419\"]]},\"xaxis\":{\"gridcolor\":\"white\",\"linecolor\":\"white\",\"ticks\":\"\",\"title\":{\"standoff\":15},\"zerolinecolor\":\"white\",\"automargin\":true,\"zerolinewidth\":2},\"yaxis\":{\"gridcolor\":\"white\",\"linecolor\":\"white\",\"ticks\":\"\",\"title\":{\"standoff\":15},\"zerolinecolor\":\"white\",\"automargin\":true,\"zerolinewidth\":2},\"scene\":{\"xaxis\":{\"backgroundcolor\":\"#E5ECF6\",\"gridcolor\":\"white\",\"linecolor\":\"white\",\"showbackground\":true,\"ticks\":\"\",\"zerolinecolor\":\"white\",\"gridwidth\":2},\"yaxis\":{\"backgroundcolor\":\"#E5ECF6\",\"gridcolor\":\"white\",\"linecolor\":\"white\",\"showbackground\":true,\"ticks\":\"\",\"zerolinecolor\":\"white\",\"gridwidth\":2},\"zaxis\":{\"backgroundcolor\":\"#E5ECF6\",\"gridcolor\":\"white\",\"linecolor\":\"white\",\"showbackground\":true,\"ticks\":\"\",\"zerolinecolor\":\"white\",\"gridwidth\":2}},\"shapedefaults\":{\"line\":{\"color\":\"#2a3f5f\"}},\"annotationdefaults\":{\"arrowcolor\":\"#2a3f5f\",\"arrowhead\":0,\"arrowwidth\":1},\"geo\":{\"bgcolor\":\"white\",\"landcolor\":\"#E5ECF6\",\"subunitcolor\":\"white\",\"showland\":true,\"showlakes\":true,\"lakecolor\":\"white\"},\"title\":{\"x\":0.05},\"mapbox\":{\"style\":\"light\"}}},\"xaxis\":{\"anchor\":\"y\",\"domain\":[0.0,1.0],\"title\":{\"text\":\"clube\"},\"categoryorder\":\"array\",\"categoryarray\":[\"Sim\",\"Não\"]},\"yaxis\":{\"anchor\":\"x\",\"domain\":[0.0,1.0],\"title\":{\"text\":\"count\"}},\"legend\":{\"title\":{\"text\":\"clube\"},\"tracegroupgap\":0},\"title\":{\"text\":\"Participação do Clube Vantagem (Sim x Não)\"},\"barmode\":\"relative\"},                        {\"responsive\": true}                    ).then(function(){\n",
              "                            \n",
              "var gd = document.getElementById('c7b315e4-eaa2-40b3-b447-379243a0fd1e');\n",
              "var x = new MutationObserver(function (mutations, observer) {{\n",
              "        var display = window.getComputedStyle(gd).display;\n",
              "        if (!display || display === 'none') {{\n",
              "            console.log([gd, 'removed!']);\n",
              "            Plotly.purge(gd);\n",
              "            observer.disconnect();\n",
              "        }}\n",
              "}});\n",
              "\n",
              "// Listen for the removal of the full notebook cells\n",
              "var notebookContainer = gd.closest('#notebook-container');\n",
              "if (notebookContainer) {{\n",
              "    x.observe(notebookContainer, {childList: true});\n",
              "}}\n",
              "\n",
              "// Listen for the clearing of the current output cell\n",
              "var outputEl = gd.closest('.output');\n",
              "if (outputEl) {{\n",
              "    x.observe(outputEl, {childList: true});\n",
              "}}\n",
              "\n",
              "                        })                };                            </script>        </div>\n",
              "</body>\n",
              "</html>"
            ]
          },
          "metadata": {}
        }
      ]
    },
    {
      "cell_type": "code",
      "source": [
        "# Contando os valores e aplicando o mesmo mapeamento\n",
        "contagem = df['clube'].map({0:'Não', 1:'Sim'}).value_counts().reset_index()\n",
        "contagem.columns = ['Status', 'Quantidade']\n",
        "\n",
        "# Gráfico de pizza interativo\n",
        "fig = px.pie(\n",
        "    contagem,\n",
        "    names='Status',\n",
        "    values='Quantidade',\n",
        "    title='Distribuição de Participantes no Clube',\n",
        "    color='Status',\n",
        "    color_discrete_map={'Sim':'green', 'Não':'red'},\n",
        "    hole=0.4  # transforma em gráfico de rosca\n",
        ")\n",
        "\n",
        "fig.show()\n"
      ],
      "metadata": {
        "colab": {
          "base_uri": "https://localhost:8080/",
          "height": 542
        },
        "id": "6W9oafiliv24",
        "outputId": "43ed22ca-7a19-495e-ef8b-1a2403085d3b"
      },
      "execution_count": 16,
      "outputs": [
        {
          "output_type": "display_data",
          "data": {
            "text/html": [
              "<html>\n",
              "<head><meta charset=\"utf-8\" /></head>\n",
              "<body>\n",
              "    <div>            <script src=\"https://cdnjs.cloudflare.com/ajax/libs/mathjax/2.7.5/MathJax.js?config=TeX-AMS-MML_SVG\"></script><script type=\"text/javascript\">if (window.MathJax && window.MathJax.Hub && window.MathJax.Hub.Config) {window.MathJax.Hub.Config({SVG: {font: \"STIX-Web\"}});}</script>                <script type=\"text/javascript\">window.PlotlyConfig = {MathJaxConfig: 'local'};</script>\n",
              "        <script charset=\"utf-8\" src=\"https://cdn.plot.ly/plotly-2.35.2.min.js\"></script>                <div id=\"329c1ef7-0b0c-428f-94d0-aa7c2f5295fa\" class=\"plotly-graph-div\" style=\"height:525px; width:100%;\"></div>            <script type=\"text/javascript\">                                    window.PLOTLYENV=window.PLOTLYENV || {};                                    if (document.getElementById(\"329c1ef7-0b0c-428f-94d0-aa7c2f5295fa\")) {                    Plotly.newPlot(                        \"329c1ef7-0b0c-428f-94d0-aa7c2f5295fa\",                        [{\"customdata\":[[\"Sim\"],[\"Não\"]],\"domain\":{\"x\":[0.0,1.0],\"y\":[0.0,1.0]},\"hole\":0.4,\"hovertemplate\":\"Status=%{customdata[0]}\\u003cbr\\u003eQuantidade=%{value}\\u003cextra\\u003e\\u003c\\u002fextra\\u003e\",\"labels\":[\"Sim\",\"Não\"],\"legendgroup\":\"\",\"marker\":{\"colors\":[\"green\",\"red\"]},\"name\":\"\",\"showlegend\":true,\"values\":[15,13],\"type\":\"pie\"}],                        {\"template\":{\"data\":{\"histogram2dcontour\":[{\"type\":\"histogram2dcontour\",\"colorbar\":{\"outlinewidth\":0,\"ticks\":\"\"},\"colorscale\":[[0.0,\"#0d0887\"],[0.1111111111111111,\"#46039f\"],[0.2222222222222222,\"#7201a8\"],[0.3333333333333333,\"#9c179e\"],[0.4444444444444444,\"#bd3786\"],[0.5555555555555556,\"#d8576b\"],[0.6666666666666666,\"#ed7953\"],[0.7777777777777778,\"#fb9f3a\"],[0.8888888888888888,\"#fdca26\"],[1.0,\"#f0f921\"]]}],\"choropleth\":[{\"type\":\"choropleth\",\"colorbar\":{\"outlinewidth\":0,\"ticks\":\"\"}}],\"histogram2d\":[{\"type\":\"histogram2d\",\"colorbar\":{\"outlinewidth\":0,\"ticks\":\"\"},\"colorscale\":[[0.0,\"#0d0887\"],[0.1111111111111111,\"#46039f\"],[0.2222222222222222,\"#7201a8\"],[0.3333333333333333,\"#9c179e\"],[0.4444444444444444,\"#bd3786\"],[0.5555555555555556,\"#d8576b\"],[0.6666666666666666,\"#ed7953\"],[0.7777777777777778,\"#fb9f3a\"],[0.8888888888888888,\"#fdca26\"],[1.0,\"#f0f921\"]]}],\"heatmap\":[{\"type\":\"heatmap\",\"colorbar\":{\"outlinewidth\":0,\"ticks\":\"\"},\"colorscale\":[[0.0,\"#0d0887\"],[0.1111111111111111,\"#46039f\"],[0.2222222222222222,\"#7201a8\"],[0.3333333333333333,\"#9c179e\"],[0.4444444444444444,\"#bd3786\"],[0.5555555555555556,\"#d8576b\"],[0.6666666666666666,\"#ed7953\"],[0.7777777777777778,\"#fb9f3a\"],[0.8888888888888888,\"#fdca26\"],[1.0,\"#f0f921\"]]}],\"heatmapgl\":[{\"type\":\"heatmapgl\",\"colorbar\":{\"outlinewidth\":0,\"ticks\":\"\"},\"colorscale\":[[0.0,\"#0d0887\"],[0.1111111111111111,\"#46039f\"],[0.2222222222222222,\"#7201a8\"],[0.3333333333333333,\"#9c179e\"],[0.4444444444444444,\"#bd3786\"],[0.5555555555555556,\"#d8576b\"],[0.6666666666666666,\"#ed7953\"],[0.7777777777777778,\"#fb9f3a\"],[0.8888888888888888,\"#fdca26\"],[1.0,\"#f0f921\"]]}],\"contourcarpet\":[{\"type\":\"contourcarpet\",\"colorbar\":{\"outlinewidth\":0,\"ticks\":\"\"}}],\"contour\":[{\"type\":\"contour\",\"colorbar\":{\"outlinewidth\":0,\"ticks\":\"\"},\"colorscale\":[[0.0,\"#0d0887\"],[0.1111111111111111,\"#46039f\"],[0.2222222222222222,\"#7201a8\"],[0.3333333333333333,\"#9c179e\"],[0.4444444444444444,\"#bd3786\"],[0.5555555555555556,\"#d8576b\"],[0.6666666666666666,\"#ed7953\"],[0.7777777777777778,\"#fb9f3a\"],[0.8888888888888888,\"#fdca26\"],[1.0,\"#f0f921\"]]}],\"surface\":[{\"type\":\"surface\",\"colorbar\":{\"outlinewidth\":0,\"ticks\":\"\"},\"colorscale\":[[0.0,\"#0d0887\"],[0.1111111111111111,\"#46039f\"],[0.2222222222222222,\"#7201a8\"],[0.3333333333333333,\"#9c179e\"],[0.4444444444444444,\"#bd3786\"],[0.5555555555555556,\"#d8576b\"],[0.6666666666666666,\"#ed7953\"],[0.7777777777777778,\"#fb9f3a\"],[0.8888888888888888,\"#fdca26\"],[1.0,\"#f0f921\"]]}],\"mesh3d\":[{\"type\":\"mesh3d\",\"colorbar\":{\"outlinewidth\":0,\"ticks\":\"\"}}],\"scatter\":[{\"fillpattern\":{\"fillmode\":\"overlay\",\"size\":10,\"solidity\":0.2},\"type\":\"scatter\"}],\"parcoords\":[{\"type\":\"parcoords\",\"line\":{\"colorbar\":{\"outlinewidth\":0,\"ticks\":\"\"}}}],\"scatterpolargl\":[{\"type\":\"scatterpolargl\",\"marker\":{\"colorbar\":{\"outlinewidth\":0,\"ticks\":\"\"}}}],\"bar\":[{\"error_x\":{\"color\":\"#2a3f5f\"},\"error_y\":{\"color\":\"#2a3f5f\"},\"marker\":{\"line\":{\"color\":\"#E5ECF6\",\"width\":0.5},\"pattern\":{\"fillmode\":\"overlay\",\"size\":10,\"solidity\":0.2}},\"type\":\"bar\"}],\"scattergeo\":[{\"type\":\"scattergeo\",\"marker\":{\"colorbar\":{\"outlinewidth\":0,\"ticks\":\"\"}}}],\"scatterpolar\":[{\"type\":\"scatterpolar\",\"marker\":{\"colorbar\":{\"outlinewidth\":0,\"ticks\":\"\"}}}],\"histogram\":[{\"marker\":{\"pattern\":{\"fillmode\":\"overlay\",\"size\":10,\"solidity\":0.2}},\"type\":\"histogram\"}],\"scattergl\":[{\"type\":\"scattergl\",\"marker\":{\"colorbar\":{\"outlinewidth\":0,\"ticks\":\"\"}}}],\"scatter3d\":[{\"type\":\"scatter3d\",\"line\":{\"colorbar\":{\"outlinewidth\":0,\"ticks\":\"\"}},\"marker\":{\"colorbar\":{\"outlinewidth\":0,\"ticks\":\"\"}}}],\"scattermapbox\":[{\"type\":\"scattermapbox\",\"marker\":{\"colorbar\":{\"outlinewidth\":0,\"ticks\":\"\"}}}],\"scatterternary\":[{\"type\":\"scatterternary\",\"marker\":{\"colorbar\":{\"outlinewidth\":0,\"ticks\":\"\"}}}],\"scattercarpet\":[{\"type\":\"scattercarpet\",\"marker\":{\"colorbar\":{\"outlinewidth\":0,\"ticks\":\"\"}}}],\"carpet\":[{\"aaxis\":{\"endlinecolor\":\"#2a3f5f\",\"gridcolor\":\"white\",\"linecolor\":\"white\",\"minorgridcolor\":\"white\",\"startlinecolor\":\"#2a3f5f\"},\"baxis\":{\"endlinecolor\":\"#2a3f5f\",\"gridcolor\":\"white\",\"linecolor\":\"white\",\"minorgridcolor\":\"white\",\"startlinecolor\":\"#2a3f5f\"},\"type\":\"carpet\"}],\"table\":[{\"cells\":{\"fill\":{\"color\":\"#EBF0F8\"},\"line\":{\"color\":\"white\"}},\"header\":{\"fill\":{\"color\":\"#C8D4E3\"},\"line\":{\"color\":\"white\"}},\"type\":\"table\"}],\"barpolar\":[{\"marker\":{\"line\":{\"color\":\"#E5ECF6\",\"width\":0.5},\"pattern\":{\"fillmode\":\"overlay\",\"size\":10,\"solidity\":0.2}},\"type\":\"barpolar\"}],\"pie\":[{\"automargin\":true,\"type\":\"pie\"}]},\"layout\":{\"autotypenumbers\":\"strict\",\"colorway\":[\"#636efa\",\"#EF553B\",\"#00cc96\",\"#ab63fa\",\"#FFA15A\",\"#19d3f3\",\"#FF6692\",\"#B6E880\",\"#FF97FF\",\"#FECB52\"],\"font\":{\"color\":\"#2a3f5f\"},\"hovermode\":\"closest\",\"hoverlabel\":{\"align\":\"left\"},\"paper_bgcolor\":\"white\",\"plot_bgcolor\":\"#E5ECF6\",\"polar\":{\"bgcolor\":\"#E5ECF6\",\"angularaxis\":{\"gridcolor\":\"white\",\"linecolor\":\"white\",\"ticks\":\"\"},\"radialaxis\":{\"gridcolor\":\"white\",\"linecolor\":\"white\",\"ticks\":\"\"}},\"ternary\":{\"bgcolor\":\"#E5ECF6\",\"aaxis\":{\"gridcolor\":\"white\",\"linecolor\":\"white\",\"ticks\":\"\"},\"baxis\":{\"gridcolor\":\"white\",\"linecolor\":\"white\",\"ticks\":\"\"},\"caxis\":{\"gridcolor\":\"white\",\"linecolor\":\"white\",\"ticks\":\"\"}},\"coloraxis\":{\"colorbar\":{\"outlinewidth\":0,\"ticks\":\"\"}},\"colorscale\":{\"sequential\":[[0.0,\"#0d0887\"],[0.1111111111111111,\"#46039f\"],[0.2222222222222222,\"#7201a8\"],[0.3333333333333333,\"#9c179e\"],[0.4444444444444444,\"#bd3786\"],[0.5555555555555556,\"#d8576b\"],[0.6666666666666666,\"#ed7953\"],[0.7777777777777778,\"#fb9f3a\"],[0.8888888888888888,\"#fdca26\"],[1.0,\"#f0f921\"]],\"sequentialminus\":[[0.0,\"#0d0887\"],[0.1111111111111111,\"#46039f\"],[0.2222222222222222,\"#7201a8\"],[0.3333333333333333,\"#9c179e\"],[0.4444444444444444,\"#bd3786\"],[0.5555555555555556,\"#d8576b\"],[0.6666666666666666,\"#ed7953\"],[0.7777777777777778,\"#fb9f3a\"],[0.8888888888888888,\"#fdca26\"],[1.0,\"#f0f921\"]],\"diverging\":[[0,\"#8e0152\"],[0.1,\"#c51b7d\"],[0.2,\"#de77ae\"],[0.3,\"#f1b6da\"],[0.4,\"#fde0ef\"],[0.5,\"#f7f7f7\"],[0.6,\"#e6f5d0\"],[0.7,\"#b8e186\"],[0.8,\"#7fbc41\"],[0.9,\"#4d9221\"],[1,\"#276419\"]]},\"xaxis\":{\"gridcolor\":\"white\",\"linecolor\":\"white\",\"ticks\":\"\",\"title\":{\"standoff\":15},\"zerolinecolor\":\"white\",\"automargin\":true,\"zerolinewidth\":2},\"yaxis\":{\"gridcolor\":\"white\",\"linecolor\":\"white\",\"ticks\":\"\",\"title\":{\"standoff\":15},\"zerolinecolor\":\"white\",\"automargin\":true,\"zerolinewidth\":2},\"scene\":{\"xaxis\":{\"backgroundcolor\":\"#E5ECF6\",\"gridcolor\":\"white\",\"linecolor\":\"white\",\"showbackground\":true,\"ticks\":\"\",\"zerolinecolor\":\"white\",\"gridwidth\":2},\"yaxis\":{\"backgroundcolor\":\"#E5ECF6\",\"gridcolor\":\"white\",\"linecolor\":\"white\",\"showbackground\":true,\"ticks\":\"\",\"zerolinecolor\":\"white\",\"gridwidth\":2},\"zaxis\":{\"backgroundcolor\":\"#E5ECF6\",\"gridcolor\":\"white\",\"linecolor\":\"white\",\"showbackground\":true,\"ticks\":\"\",\"zerolinecolor\":\"white\",\"gridwidth\":2}},\"shapedefaults\":{\"line\":{\"color\":\"#2a3f5f\"}},\"annotationdefaults\":{\"arrowcolor\":\"#2a3f5f\",\"arrowhead\":0,\"arrowwidth\":1},\"geo\":{\"bgcolor\":\"white\",\"landcolor\":\"#E5ECF6\",\"subunitcolor\":\"white\",\"showland\":true,\"showlakes\":true,\"lakecolor\":\"white\"},\"title\":{\"x\":0.05},\"mapbox\":{\"style\":\"light\"}}},\"legend\":{\"tracegroupgap\":0},\"title\":{\"text\":\"Distribuição de Participantes no Clube\"}},                        {\"responsive\": true}                    ).then(function(){\n",
              "                            \n",
              "var gd = document.getElementById('329c1ef7-0b0c-428f-94d0-aa7c2f5295fa');\n",
              "var x = new MutationObserver(function (mutations, observer) {{\n",
              "        var display = window.getComputedStyle(gd).display;\n",
              "        if (!display || display === 'none') {{\n",
              "            console.log([gd, 'removed!']);\n",
              "            Plotly.purge(gd);\n",
              "            observer.disconnect();\n",
              "        }}\n",
              "}});\n",
              "\n",
              "// Listen for the removal of the full notebook cells\n",
              "var notebookContainer = gd.closest('#notebook-container');\n",
              "if (notebookContainer) {{\n",
              "    x.observe(notebookContainer, {childList: true});\n",
              "}}\n",
              "\n",
              "// Listen for the clearing of the current output cell\n",
              "var outputEl = gd.closest('.output');\n",
              "if (outputEl) {{\n",
              "    x.observe(outputEl, {childList: true});\n",
              "}}\n",
              "\n",
              "                        })                };                            </script>        </div>\n",
              "</body>\n",
              "</html>"
            ]
          },
          "metadata": {}
        }
      ]
    },
    {
      "cell_type": "code",
      "source": [
        "import pandas as pd\n",
        "import plotly.graph_objects as go\n",
        "from plotly.subplots import make_subplots\n",
        "\n",
        "# 📥 Lendo o arquivo CSV\n",
        "df = pd.read_csv('https://raw.githubusercontent.com/profivan-ai/cdb-Python/refs/heads/main/arquivos/compras.csv', sep=\";\")\n",
        "\n",
        "# 🔄 Convertendo 0 e 1 para texto\n",
        "df['clube_texto'] = df['clube'].map({0: 'Não', 1: 'Sim'})\n",
        "\n",
        "# 📊 Contagem de cada categoria\n",
        "contagem = df['clube_texto'].value_counts().reset_index()\n",
        "contagem.columns = ['Status', 'Quantidade']\n",
        "\n",
        "# 🧱 Criando layout com 1 linha e 2 colunas (barras + pizza)\n",
        "fig = make_subplots(\n",
        "    rows=1, cols=2,\n",
        "    specs=[[{'type':'bar'}, {'type':'domain'}]],\n",
        "    subplot_titles=(\"Gráfico de Barras\", \"Gráfico de Rosca (Pizza)\")\n",
        ")\n",
        "\n",
        "# 🔹 Gráfico de Barras\n",
        "fig.add_trace(\n",
        "    go.Bar(\n",
        "        x=contagem['Status'],\n",
        "        y=contagem['Quantidade'],\n",
        "        marker_color=['red', 'green'],\n",
        "        text=contagem['Quantidade'],\n",
        "        textposition='auto',\n",
        "        name='Barras'\n",
        "    ),\n",
        "    row=1, col=1\n",
        ")\n",
        "\n",
        "# 🔸 Gráfico de Pizza (Rosca)\n",
        "fig.add_trace(\n",
        "    go.Pie(\n",
        "        labels=contagem['Status'],\n",
        "        values=contagem['Quantidade'],\n",
        "        hole=0.4,\n",
        "        marker_colors=['red', 'green'],\n",
        "        name='Pizza'\n",
        "    ),\n",
        "    row=1, col=2\n",
        ")\n",
        "\n",
        "# 🎨 Personalização geral\n",
        "fig.update_layout(\n",
        "    title_text=\"📊 Participação no Clube (Sim x Não)\",\n",
        "    title_x=0.5,\n",
        "    showlegend=False,\n",
        "    template=\"plotly_white\",\n",
        "    width=900,\n",
        "    height=450\n",
        ")\n",
        "\n",
        "# 🚀 Exibir\n",
        "fig.show()\n"
      ],
      "metadata": {
        "colab": {
          "base_uri": "https://localhost:8080/",
          "height": 467
        },
        "id": "5584XJa3jFWn",
        "outputId": "c43c3f8c-b34e-4812-f80b-d379875505bd"
      },
      "execution_count": 18,
      "outputs": [
        {
          "output_type": "display_data",
          "data": {
            "text/html": [
              "<html>\n",
              "<head><meta charset=\"utf-8\" /></head>\n",
              "<body>\n",
              "    <div>            <script src=\"https://cdnjs.cloudflare.com/ajax/libs/mathjax/2.7.5/MathJax.js?config=TeX-AMS-MML_SVG\"></script><script type=\"text/javascript\">if (window.MathJax && window.MathJax.Hub && window.MathJax.Hub.Config) {window.MathJax.Hub.Config({SVG: {font: \"STIX-Web\"}});}</script>                <script type=\"text/javascript\">window.PlotlyConfig = {MathJaxConfig: 'local'};</script>\n",
              "        <script charset=\"utf-8\" src=\"https://cdn.plot.ly/plotly-2.35.2.min.js\"></script>                <div id=\"7869a3c4-be8e-4f0e-aa2b-914502891d72\" class=\"plotly-graph-div\" style=\"height:450px; width:900px;\"></div>            <script type=\"text/javascript\">                                    window.PLOTLYENV=window.PLOTLYENV || {};                                    if (document.getElementById(\"7869a3c4-be8e-4f0e-aa2b-914502891d72\")) {                    Plotly.newPlot(                        \"7869a3c4-be8e-4f0e-aa2b-914502891d72\",                        [{\"marker\":{\"color\":[\"red\",\"green\"]},\"name\":\"Barras\",\"text\":[15.0,13.0],\"textposition\":\"auto\",\"x\":[\"Sim\",\"Não\"],\"y\":[15,13],\"type\":\"bar\",\"xaxis\":\"x\",\"yaxis\":\"y\"},{\"hole\":0.4,\"labels\":[\"Sim\",\"Não\"],\"marker\":{\"colors\":[\"red\",\"green\"]},\"name\":\"Pizza\",\"values\":[15,13],\"type\":\"pie\",\"domain\":{\"x\":[0.55,1.0],\"y\":[0.0,1.0]}}],                        {\"template\":{\"data\":{\"barpolar\":[{\"marker\":{\"line\":{\"color\":\"white\",\"width\":0.5},\"pattern\":{\"fillmode\":\"overlay\",\"size\":10,\"solidity\":0.2}},\"type\":\"barpolar\"}],\"bar\":[{\"error_x\":{\"color\":\"#2a3f5f\"},\"error_y\":{\"color\":\"#2a3f5f\"},\"marker\":{\"line\":{\"color\":\"white\",\"width\":0.5},\"pattern\":{\"fillmode\":\"overlay\",\"size\":10,\"solidity\":0.2}},\"type\":\"bar\"}],\"carpet\":[{\"aaxis\":{\"endlinecolor\":\"#2a3f5f\",\"gridcolor\":\"#C8D4E3\",\"linecolor\":\"#C8D4E3\",\"minorgridcolor\":\"#C8D4E3\",\"startlinecolor\":\"#2a3f5f\"},\"baxis\":{\"endlinecolor\":\"#2a3f5f\",\"gridcolor\":\"#C8D4E3\",\"linecolor\":\"#C8D4E3\",\"minorgridcolor\":\"#C8D4E3\",\"startlinecolor\":\"#2a3f5f\"},\"type\":\"carpet\"}],\"choropleth\":[{\"colorbar\":{\"outlinewidth\":0,\"ticks\":\"\"},\"type\":\"choropleth\"}],\"contourcarpet\":[{\"colorbar\":{\"outlinewidth\":0,\"ticks\":\"\"},\"type\":\"contourcarpet\"}],\"contour\":[{\"colorbar\":{\"outlinewidth\":0,\"ticks\":\"\"},\"colorscale\":[[0.0,\"#0d0887\"],[0.1111111111111111,\"#46039f\"],[0.2222222222222222,\"#7201a8\"],[0.3333333333333333,\"#9c179e\"],[0.4444444444444444,\"#bd3786\"],[0.5555555555555556,\"#d8576b\"],[0.6666666666666666,\"#ed7953\"],[0.7777777777777778,\"#fb9f3a\"],[0.8888888888888888,\"#fdca26\"],[1.0,\"#f0f921\"]],\"type\":\"contour\"}],\"heatmapgl\":[{\"colorbar\":{\"outlinewidth\":0,\"ticks\":\"\"},\"colorscale\":[[0.0,\"#0d0887\"],[0.1111111111111111,\"#46039f\"],[0.2222222222222222,\"#7201a8\"],[0.3333333333333333,\"#9c179e\"],[0.4444444444444444,\"#bd3786\"],[0.5555555555555556,\"#d8576b\"],[0.6666666666666666,\"#ed7953\"],[0.7777777777777778,\"#fb9f3a\"],[0.8888888888888888,\"#fdca26\"],[1.0,\"#f0f921\"]],\"type\":\"heatmapgl\"}],\"heatmap\":[{\"colorbar\":{\"outlinewidth\":0,\"ticks\":\"\"},\"colorscale\":[[0.0,\"#0d0887\"],[0.1111111111111111,\"#46039f\"],[0.2222222222222222,\"#7201a8\"],[0.3333333333333333,\"#9c179e\"],[0.4444444444444444,\"#bd3786\"],[0.5555555555555556,\"#d8576b\"],[0.6666666666666666,\"#ed7953\"],[0.7777777777777778,\"#fb9f3a\"],[0.8888888888888888,\"#fdca26\"],[1.0,\"#f0f921\"]],\"type\":\"heatmap\"}],\"histogram2dcontour\":[{\"colorbar\":{\"outlinewidth\":0,\"ticks\":\"\"},\"colorscale\":[[0.0,\"#0d0887\"],[0.1111111111111111,\"#46039f\"],[0.2222222222222222,\"#7201a8\"],[0.3333333333333333,\"#9c179e\"],[0.4444444444444444,\"#bd3786\"],[0.5555555555555556,\"#d8576b\"],[0.6666666666666666,\"#ed7953\"],[0.7777777777777778,\"#fb9f3a\"],[0.8888888888888888,\"#fdca26\"],[1.0,\"#f0f921\"]],\"type\":\"histogram2dcontour\"}],\"histogram2d\":[{\"colorbar\":{\"outlinewidth\":0,\"ticks\":\"\"},\"colorscale\":[[0.0,\"#0d0887\"],[0.1111111111111111,\"#46039f\"],[0.2222222222222222,\"#7201a8\"],[0.3333333333333333,\"#9c179e\"],[0.4444444444444444,\"#bd3786\"],[0.5555555555555556,\"#d8576b\"],[0.6666666666666666,\"#ed7953\"],[0.7777777777777778,\"#fb9f3a\"],[0.8888888888888888,\"#fdca26\"],[1.0,\"#f0f921\"]],\"type\":\"histogram2d\"}],\"histogram\":[{\"marker\":{\"pattern\":{\"fillmode\":\"overlay\",\"size\":10,\"solidity\":0.2}},\"type\":\"histogram\"}],\"mesh3d\":[{\"colorbar\":{\"outlinewidth\":0,\"ticks\":\"\"},\"type\":\"mesh3d\"}],\"parcoords\":[{\"line\":{\"colorbar\":{\"outlinewidth\":0,\"ticks\":\"\"}},\"type\":\"parcoords\"}],\"pie\":[{\"automargin\":true,\"type\":\"pie\"}],\"scatter3d\":[{\"line\":{\"colorbar\":{\"outlinewidth\":0,\"ticks\":\"\"}},\"marker\":{\"colorbar\":{\"outlinewidth\":0,\"ticks\":\"\"}},\"type\":\"scatter3d\"}],\"scattercarpet\":[{\"marker\":{\"colorbar\":{\"outlinewidth\":0,\"ticks\":\"\"}},\"type\":\"scattercarpet\"}],\"scattergeo\":[{\"marker\":{\"colorbar\":{\"outlinewidth\":0,\"ticks\":\"\"}},\"type\":\"scattergeo\"}],\"scattergl\":[{\"marker\":{\"colorbar\":{\"outlinewidth\":0,\"ticks\":\"\"}},\"type\":\"scattergl\"}],\"scattermapbox\":[{\"marker\":{\"colorbar\":{\"outlinewidth\":0,\"ticks\":\"\"}},\"type\":\"scattermapbox\"}],\"scatterpolargl\":[{\"marker\":{\"colorbar\":{\"outlinewidth\":0,\"ticks\":\"\"}},\"type\":\"scatterpolargl\"}],\"scatterpolar\":[{\"marker\":{\"colorbar\":{\"outlinewidth\":0,\"ticks\":\"\"}},\"type\":\"scatterpolar\"}],\"scatter\":[{\"fillpattern\":{\"fillmode\":\"overlay\",\"size\":10,\"solidity\":0.2},\"type\":\"scatter\"}],\"scatterternary\":[{\"marker\":{\"colorbar\":{\"outlinewidth\":0,\"ticks\":\"\"}},\"type\":\"scatterternary\"}],\"surface\":[{\"colorbar\":{\"outlinewidth\":0,\"ticks\":\"\"},\"colorscale\":[[0.0,\"#0d0887\"],[0.1111111111111111,\"#46039f\"],[0.2222222222222222,\"#7201a8\"],[0.3333333333333333,\"#9c179e\"],[0.4444444444444444,\"#bd3786\"],[0.5555555555555556,\"#d8576b\"],[0.6666666666666666,\"#ed7953\"],[0.7777777777777778,\"#fb9f3a\"],[0.8888888888888888,\"#fdca26\"],[1.0,\"#f0f921\"]],\"type\":\"surface\"}],\"table\":[{\"cells\":{\"fill\":{\"color\":\"#EBF0F8\"},\"line\":{\"color\":\"white\"}},\"header\":{\"fill\":{\"color\":\"#C8D4E3\"},\"line\":{\"color\":\"white\"}},\"type\":\"table\"}]},\"layout\":{\"annotationdefaults\":{\"arrowcolor\":\"#2a3f5f\",\"arrowhead\":0,\"arrowwidth\":1},\"autotypenumbers\":\"strict\",\"coloraxis\":{\"colorbar\":{\"outlinewidth\":0,\"ticks\":\"\"}},\"colorscale\":{\"diverging\":[[0,\"#8e0152\"],[0.1,\"#c51b7d\"],[0.2,\"#de77ae\"],[0.3,\"#f1b6da\"],[0.4,\"#fde0ef\"],[0.5,\"#f7f7f7\"],[0.6,\"#e6f5d0\"],[0.7,\"#b8e186\"],[0.8,\"#7fbc41\"],[0.9,\"#4d9221\"],[1,\"#276419\"]],\"sequential\":[[0.0,\"#0d0887\"],[0.1111111111111111,\"#46039f\"],[0.2222222222222222,\"#7201a8\"],[0.3333333333333333,\"#9c179e\"],[0.4444444444444444,\"#bd3786\"],[0.5555555555555556,\"#d8576b\"],[0.6666666666666666,\"#ed7953\"],[0.7777777777777778,\"#fb9f3a\"],[0.8888888888888888,\"#fdca26\"],[1.0,\"#f0f921\"]],\"sequentialminus\":[[0.0,\"#0d0887\"],[0.1111111111111111,\"#46039f\"],[0.2222222222222222,\"#7201a8\"],[0.3333333333333333,\"#9c179e\"],[0.4444444444444444,\"#bd3786\"],[0.5555555555555556,\"#d8576b\"],[0.6666666666666666,\"#ed7953\"],[0.7777777777777778,\"#fb9f3a\"],[0.8888888888888888,\"#fdca26\"],[1.0,\"#f0f921\"]]},\"colorway\":[\"#636efa\",\"#EF553B\",\"#00cc96\",\"#ab63fa\",\"#FFA15A\",\"#19d3f3\",\"#FF6692\",\"#B6E880\",\"#FF97FF\",\"#FECB52\"],\"font\":{\"color\":\"#2a3f5f\"},\"geo\":{\"bgcolor\":\"white\",\"lakecolor\":\"white\",\"landcolor\":\"white\",\"showlakes\":true,\"showland\":true,\"subunitcolor\":\"#C8D4E3\"},\"hoverlabel\":{\"align\":\"left\"},\"hovermode\":\"closest\",\"mapbox\":{\"style\":\"light\"},\"paper_bgcolor\":\"white\",\"plot_bgcolor\":\"white\",\"polar\":{\"angularaxis\":{\"gridcolor\":\"#EBF0F8\",\"linecolor\":\"#EBF0F8\",\"ticks\":\"\"},\"bgcolor\":\"white\",\"radialaxis\":{\"gridcolor\":\"#EBF0F8\",\"linecolor\":\"#EBF0F8\",\"ticks\":\"\"}},\"scene\":{\"xaxis\":{\"backgroundcolor\":\"white\",\"gridcolor\":\"#DFE8F3\",\"gridwidth\":2,\"linecolor\":\"#EBF0F8\",\"showbackground\":true,\"ticks\":\"\",\"zerolinecolor\":\"#EBF0F8\"},\"yaxis\":{\"backgroundcolor\":\"white\",\"gridcolor\":\"#DFE8F3\",\"gridwidth\":2,\"linecolor\":\"#EBF0F8\",\"showbackground\":true,\"ticks\":\"\",\"zerolinecolor\":\"#EBF0F8\"},\"zaxis\":{\"backgroundcolor\":\"white\",\"gridcolor\":\"#DFE8F3\",\"gridwidth\":2,\"linecolor\":\"#EBF0F8\",\"showbackground\":true,\"ticks\":\"\",\"zerolinecolor\":\"#EBF0F8\"}},\"shapedefaults\":{\"line\":{\"color\":\"#2a3f5f\"}},\"ternary\":{\"aaxis\":{\"gridcolor\":\"#DFE8F3\",\"linecolor\":\"#A2B1C6\",\"ticks\":\"\"},\"baxis\":{\"gridcolor\":\"#DFE8F3\",\"linecolor\":\"#A2B1C6\",\"ticks\":\"\"},\"bgcolor\":\"white\",\"caxis\":{\"gridcolor\":\"#DFE8F3\",\"linecolor\":\"#A2B1C6\",\"ticks\":\"\"}},\"title\":{\"x\":0.05},\"xaxis\":{\"automargin\":true,\"gridcolor\":\"#EBF0F8\",\"linecolor\":\"#EBF0F8\",\"ticks\":\"\",\"title\":{\"standoff\":15},\"zerolinecolor\":\"#EBF0F8\",\"zerolinewidth\":2},\"yaxis\":{\"automargin\":true,\"gridcolor\":\"#EBF0F8\",\"linecolor\":\"#EBF0F8\",\"ticks\":\"\",\"title\":{\"standoff\":15},\"zerolinecolor\":\"#EBF0F8\",\"zerolinewidth\":2}}},\"xaxis\":{\"anchor\":\"y\",\"domain\":[0.0,0.45]},\"yaxis\":{\"anchor\":\"x\",\"domain\":[0.0,1.0]},\"annotations\":[{\"font\":{\"size\":16},\"showarrow\":false,\"text\":\"Gráfico de Barras\",\"x\":0.225,\"xanchor\":\"center\",\"xref\":\"paper\",\"y\":1.0,\"yanchor\":\"bottom\",\"yref\":\"paper\"},{\"font\":{\"size\":16},\"showarrow\":false,\"text\":\"Gráfico de Rosca (Pizza)\",\"x\":0.775,\"xanchor\":\"center\",\"xref\":\"paper\",\"y\":1.0,\"yanchor\":\"bottom\",\"yref\":\"paper\"}],\"title\":{\"text\":\"📊 Participação no Clube (Sim x Não)\",\"x\":0.5},\"showlegend\":false,\"width\":900,\"height\":450},                        {\"responsive\": true}                    ).then(function(){\n",
              "                            \n",
              "var gd = document.getElementById('7869a3c4-be8e-4f0e-aa2b-914502891d72');\n",
              "var x = new MutationObserver(function (mutations, observer) {{\n",
              "        var display = window.getComputedStyle(gd).display;\n",
              "        if (!display || display === 'none') {{\n",
              "            console.log([gd, 'removed!']);\n",
              "            Plotly.purge(gd);\n",
              "            observer.disconnect();\n",
              "        }}\n",
              "}});\n",
              "\n",
              "// Listen for the removal of the full notebook cells\n",
              "var notebookContainer = gd.closest('#notebook-container');\n",
              "if (notebookContainer) {{\n",
              "    x.observe(notebookContainer, {childList: true});\n",
              "}}\n",
              "\n",
              "// Listen for the clearing of the current output cell\n",
              "var outputEl = gd.closest('.output');\n",
              "if (outputEl) {{\n",
              "    x.observe(outputEl, {childList: true});\n",
              "}}\n",
              "\n",
              "                        })                };                            </script>        </div>\n",
              "</body>\n",
              "</html>"
            ]
          },
          "metadata": {}
        }
      ]
    },
    {
      "cell_type": "code",
      "source": [
        "import pandas as pd\n",
        "import plotly.graph_objects as go\n",
        "from plotly.subplots import make_subplots\n",
        "\n",
        "# Lendo dataset\n",
        "df = pd.read_csv('https://raw.githubusercontent.com/profivan-ai/cdb-Python/refs/heads/main/arquivos/compras.csv', sep=\";\")\n",
        "df['clube_texto'] = df['clube'].map({0: 'Não', 1: 'Sim'})\n",
        "contagem = df['clube_texto'].value_counts().reset_index()\n",
        "contagem.columns = ['Status', 'Quantidade']\n",
        "\n",
        "# Criação do painel com 2 gráficos\n",
        "fig = make_subplots(rows=1, cols=2, specs=[[{'type':'bar'}, {'type':'domain'}]],\n",
        "                    subplot_titles=('Gráfico de Barras', 'Gráfico de Rosca'))\n",
        "\n",
        "# Barras\n",
        "fig.add_trace(\n",
        "    go.Bar(\n",
        "        x=contagem['Status'],\n",
        "        y=contagem['Quantidade'],\n",
        "        marker_color=['red', 'green'],\n",
        "        text=contagem['Quantidade'],\n",
        "        textposition='auto'\n",
        "    ),\n",
        "    row=1, col=1\n",
        ")\n",
        "\n",
        "# Pizza\n",
        "fig.add_trace(\n",
        "    go.Pie(\n",
        "        labels=contagem['Status'],\n",
        "        values=contagem['Quantidade'],\n",
        "        hole=0.4,\n",
        "        marker_colors=['red', 'green']\n",
        "    ),\n",
        "    row=1, col=2\n",
        ")\n",
        "\n",
        "# Layout\n",
        "fig.update_layout(\n",
        "    title_text=\"📊 Participação no Clube (Sim x Não)\",\n",
        "    template=\"plotly_white\",\n",
        "    width=900,\n",
        "    height=450\n",
        ")\n",
        "\n",
        "fig.show()\n"
      ],
      "metadata": {
        "colab": {
          "base_uri": "https://localhost:8080/",
          "height": 467
        },
        "id": "gG-ORxDMj5bZ",
        "outputId": "4e7e4f21-89bf-4808-b82c-fdda17dddb24"
      },
      "execution_count": 20,
      "outputs": [
        {
          "output_type": "display_data",
          "data": {
            "text/html": [
              "<html>\n",
              "<head><meta charset=\"utf-8\" /></head>\n",
              "<body>\n",
              "    <div>            <script src=\"https://cdnjs.cloudflare.com/ajax/libs/mathjax/2.7.5/MathJax.js?config=TeX-AMS-MML_SVG\"></script><script type=\"text/javascript\">if (window.MathJax && window.MathJax.Hub && window.MathJax.Hub.Config) {window.MathJax.Hub.Config({SVG: {font: \"STIX-Web\"}});}</script>                <script type=\"text/javascript\">window.PlotlyConfig = {MathJaxConfig: 'local'};</script>\n",
              "        <script charset=\"utf-8\" src=\"https://cdn.plot.ly/plotly-2.35.2.min.js\"></script>                <div id=\"692568af-4a6e-49da-8e84-1327d0014cd5\" class=\"plotly-graph-div\" style=\"height:450px; width:900px;\"></div>            <script type=\"text/javascript\">                                    window.PLOTLYENV=window.PLOTLYENV || {};                                    if (document.getElementById(\"692568af-4a6e-49da-8e84-1327d0014cd5\")) {                    Plotly.newPlot(                        \"692568af-4a6e-49da-8e84-1327d0014cd5\",                        [{\"marker\":{\"color\":[\"red\",\"green\"]},\"text\":[15.0,13.0],\"textposition\":\"auto\",\"x\":[\"Sim\",\"Não\"],\"y\":[15,13],\"type\":\"bar\",\"xaxis\":\"x\",\"yaxis\":\"y\"},{\"hole\":0.4,\"labels\":[\"Sim\",\"Não\"],\"marker\":{\"colors\":[\"red\",\"green\"]},\"values\":[15,13],\"type\":\"pie\",\"domain\":{\"x\":[0.55,1.0],\"y\":[0.0,1.0]}}],                        {\"template\":{\"data\":{\"barpolar\":[{\"marker\":{\"line\":{\"color\":\"white\",\"width\":0.5},\"pattern\":{\"fillmode\":\"overlay\",\"size\":10,\"solidity\":0.2}},\"type\":\"barpolar\"}],\"bar\":[{\"error_x\":{\"color\":\"#2a3f5f\"},\"error_y\":{\"color\":\"#2a3f5f\"},\"marker\":{\"line\":{\"color\":\"white\",\"width\":0.5},\"pattern\":{\"fillmode\":\"overlay\",\"size\":10,\"solidity\":0.2}},\"type\":\"bar\"}],\"carpet\":[{\"aaxis\":{\"endlinecolor\":\"#2a3f5f\",\"gridcolor\":\"#C8D4E3\",\"linecolor\":\"#C8D4E3\",\"minorgridcolor\":\"#C8D4E3\",\"startlinecolor\":\"#2a3f5f\"},\"baxis\":{\"endlinecolor\":\"#2a3f5f\",\"gridcolor\":\"#C8D4E3\",\"linecolor\":\"#C8D4E3\",\"minorgridcolor\":\"#C8D4E3\",\"startlinecolor\":\"#2a3f5f\"},\"type\":\"carpet\"}],\"choropleth\":[{\"colorbar\":{\"outlinewidth\":0,\"ticks\":\"\"},\"type\":\"choropleth\"}],\"contourcarpet\":[{\"colorbar\":{\"outlinewidth\":0,\"ticks\":\"\"},\"type\":\"contourcarpet\"}],\"contour\":[{\"colorbar\":{\"outlinewidth\":0,\"ticks\":\"\"},\"colorscale\":[[0.0,\"#0d0887\"],[0.1111111111111111,\"#46039f\"],[0.2222222222222222,\"#7201a8\"],[0.3333333333333333,\"#9c179e\"],[0.4444444444444444,\"#bd3786\"],[0.5555555555555556,\"#d8576b\"],[0.6666666666666666,\"#ed7953\"],[0.7777777777777778,\"#fb9f3a\"],[0.8888888888888888,\"#fdca26\"],[1.0,\"#f0f921\"]],\"type\":\"contour\"}],\"heatmapgl\":[{\"colorbar\":{\"outlinewidth\":0,\"ticks\":\"\"},\"colorscale\":[[0.0,\"#0d0887\"],[0.1111111111111111,\"#46039f\"],[0.2222222222222222,\"#7201a8\"],[0.3333333333333333,\"#9c179e\"],[0.4444444444444444,\"#bd3786\"],[0.5555555555555556,\"#d8576b\"],[0.6666666666666666,\"#ed7953\"],[0.7777777777777778,\"#fb9f3a\"],[0.8888888888888888,\"#fdca26\"],[1.0,\"#f0f921\"]],\"type\":\"heatmapgl\"}],\"heatmap\":[{\"colorbar\":{\"outlinewidth\":0,\"ticks\":\"\"},\"colorscale\":[[0.0,\"#0d0887\"],[0.1111111111111111,\"#46039f\"],[0.2222222222222222,\"#7201a8\"],[0.3333333333333333,\"#9c179e\"],[0.4444444444444444,\"#bd3786\"],[0.5555555555555556,\"#d8576b\"],[0.6666666666666666,\"#ed7953\"],[0.7777777777777778,\"#fb9f3a\"],[0.8888888888888888,\"#fdca26\"],[1.0,\"#f0f921\"]],\"type\":\"heatmap\"}],\"histogram2dcontour\":[{\"colorbar\":{\"outlinewidth\":0,\"ticks\":\"\"},\"colorscale\":[[0.0,\"#0d0887\"],[0.1111111111111111,\"#46039f\"],[0.2222222222222222,\"#7201a8\"],[0.3333333333333333,\"#9c179e\"],[0.4444444444444444,\"#bd3786\"],[0.5555555555555556,\"#d8576b\"],[0.6666666666666666,\"#ed7953\"],[0.7777777777777778,\"#fb9f3a\"],[0.8888888888888888,\"#fdca26\"],[1.0,\"#f0f921\"]],\"type\":\"histogram2dcontour\"}],\"histogram2d\":[{\"colorbar\":{\"outlinewidth\":0,\"ticks\":\"\"},\"colorscale\":[[0.0,\"#0d0887\"],[0.1111111111111111,\"#46039f\"],[0.2222222222222222,\"#7201a8\"],[0.3333333333333333,\"#9c179e\"],[0.4444444444444444,\"#bd3786\"],[0.5555555555555556,\"#d8576b\"],[0.6666666666666666,\"#ed7953\"],[0.7777777777777778,\"#fb9f3a\"],[0.8888888888888888,\"#fdca26\"],[1.0,\"#f0f921\"]],\"type\":\"histogram2d\"}],\"histogram\":[{\"marker\":{\"pattern\":{\"fillmode\":\"overlay\",\"size\":10,\"solidity\":0.2}},\"type\":\"histogram\"}],\"mesh3d\":[{\"colorbar\":{\"outlinewidth\":0,\"ticks\":\"\"},\"type\":\"mesh3d\"}],\"parcoords\":[{\"line\":{\"colorbar\":{\"outlinewidth\":0,\"ticks\":\"\"}},\"type\":\"parcoords\"}],\"pie\":[{\"automargin\":true,\"type\":\"pie\"}],\"scatter3d\":[{\"line\":{\"colorbar\":{\"outlinewidth\":0,\"ticks\":\"\"}},\"marker\":{\"colorbar\":{\"outlinewidth\":0,\"ticks\":\"\"}},\"type\":\"scatter3d\"}],\"scattercarpet\":[{\"marker\":{\"colorbar\":{\"outlinewidth\":0,\"ticks\":\"\"}},\"type\":\"scattercarpet\"}],\"scattergeo\":[{\"marker\":{\"colorbar\":{\"outlinewidth\":0,\"ticks\":\"\"}},\"type\":\"scattergeo\"}],\"scattergl\":[{\"marker\":{\"colorbar\":{\"outlinewidth\":0,\"ticks\":\"\"}},\"type\":\"scattergl\"}],\"scattermapbox\":[{\"marker\":{\"colorbar\":{\"outlinewidth\":0,\"ticks\":\"\"}},\"type\":\"scattermapbox\"}],\"scatterpolargl\":[{\"marker\":{\"colorbar\":{\"outlinewidth\":0,\"ticks\":\"\"}},\"type\":\"scatterpolargl\"}],\"scatterpolar\":[{\"marker\":{\"colorbar\":{\"outlinewidth\":0,\"ticks\":\"\"}},\"type\":\"scatterpolar\"}],\"scatter\":[{\"fillpattern\":{\"fillmode\":\"overlay\",\"size\":10,\"solidity\":0.2},\"type\":\"scatter\"}],\"scatterternary\":[{\"marker\":{\"colorbar\":{\"outlinewidth\":0,\"ticks\":\"\"}},\"type\":\"scatterternary\"}],\"surface\":[{\"colorbar\":{\"outlinewidth\":0,\"ticks\":\"\"},\"colorscale\":[[0.0,\"#0d0887\"],[0.1111111111111111,\"#46039f\"],[0.2222222222222222,\"#7201a8\"],[0.3333333333333333,\"#9c179e\"],[0.4444444444444444,\"#bd3786\"],[0.5555555555555556,\"#d8576b\"],[0.6666666666666666,\"#ed7953\"],[0.7777777777777778,\"#fb9f3a\"],[0.8888888888888888,\"#fdca26\"],[1.0,\"#f0f921\"]],\"type\":\"surface\"}],\"table\":[{\"cells\":{\"fill\":{\"color\":\"#EBF0F8\"},\"line\":{\"color\":\"white\"}},\"header\":{\"fill\":{\"color\":\"#C8D4E3\"},\"line\":{\"color\":\"white\"}},\"type\":\"table\"}]},\"layout\":{\"annotationdefaults\":{\"arrowcolor\":\"#2a3f5f\",\"arrowhead\":0,\"arrowwidth\":1},\"autotypenumbers\":\"strict\",\"coloraxis\":{\"colorbar\":{\"outlinewidth\":0,\"ticks\":\"\"}},\"colorscale\":{\"diverging\":[[0,\"#8e0152\"],[0.1,\"#c51b7d\"],[0.2,\"#de77ae\"],[0.3,\"#f1b6da\"],[0.4,\"#fde0ef\"],[0.5,\"#f7f7f7\"],[0.6,\"#e6f5d0\"],[0.7,\"#b8e186\"],[0.8,\"#7fbc41\"],[0.9,\"#4d9221\"],[1,\"#276419\"]],\"sequential\":[[0.0,\"#0d0887\"],[0.1111111111111111,\"#46039f\"],[0.2222222222222222,\"#7201a8\"],[0.3333333333333333,\"#9c179e\"],[0.4444444444444444,\"#bd3786\"],[0.5555555555555556,\"#d8576b\"],[0.6666666666666666,\"#ed7953\"],[0.7777777777777778,\"#fb9f3a\"],[0.8888888888888888,\"#fdca26\"],[1.0,\"#f0f921\"]],\"sequentialminus\":[[0.0,\"#0d0887\"],[0.1111111111111111,\"#46039f\"],[0.2222222222222222,\"#7201a8\"],[0.3333333333333333,\"#9c179e\"],[0.4444444444444444,\"#bd3786\"],[0.5555555555555556,\"#d8576b\"],[0.6666666666666666,\"#ed7953\"],[0.7777777777777778,\"#fb9f3a\"],[0.8888888888888888,\"#fdca26\"],[1.0,\"#f0f921\"]]},\"colorway\":[\"#636efa\",\"#EF553B\",\"#00cc96\",\"#ab63fa\",\"#FFA15A\",\"#19d3f3\",\"#FF6692\",\"#B6E880\",\"#FF97FF\",\"#FECB52\"],\"font\":{\"color\":\"#2a3f5f\"},\"geo\":{\"bgcolor\":\"white\",\"lakecolor\":\"white\",\"landcolor\":\"white\",\"showlakes\":true,\"showland\":true,\"subunitcolor\":\"#C8D4E3\"},\"hoverlabel\":{\"align\":\"left\"},\"hovermode\":\"closest\",\"mapbox\":{\"style\":\"light\"},\"paper_bgcolor\":\"white\",\"plot_bgcolor\":\"white\",\"polar\":{\"angularaxis\":{\"gridcolor\":\"#EBF0F8\",\"linecolor\":\"#EBF0F8\",\"ticks\":\"\"},\"bgcolor\":\"white\",\"radialaxis\":{\"gridcolor\":\"#EBF0F8\",\"linecolor\":\"#EBF0F8\",\"ticks\":\"\"}},\"scene\":{\"xaxis\":{\"backgroundcolor\":\"white\",\"gridcolor\":\"#DFE8F3\",\"gridwidth\":2,\"linecolor\":\"#EBF0F8\",\"showbackground\":true,\"ticks\":\"\",\"zerolinecolor\":\"#EBF0F8\"},\"yaxis\":{\"backgroundcolor\":\"white\",\"gridcolor\":\"#DFE8F3\",\"gridwidth\":2,\"linecolor\":\"#EBF0F8\",\"showbackground\":true,\"ticks\":\"\",\"zerolinecolor\":\"#EBF0F8\"},\"zaxis\":{\"backgroundcolor\":\"white\",\"gridcolor\":\"#DFE8F3\",\"gridwidth\":2,\"linecolor\":\"#EBF0F8\",\"showbackground\":true,\"ticks\":\"\",\"zerolinecolor\":\"#EBF0F8\"}},\"shapedefaults\":{\"line\":{\"color\":\"#2a3f5f\"}},\"ternary\":{\"aaxis\":{\"gridcolor\":\"#DFE8F3\",\"linecolor\":\"#A2B1C6\",\"ticks\":\"\"},\"baxis\":{\"gridcolor\":\"#DFE8F3\",\"linecolor\":\"#A2B1C6\",\"ticks\":\"\"},\"bgcolor\":\"white\",\"caxis\":{\"gridcolor\":\"#DFE8F3\",\"linecolor\":\"#A2B1C6\",\"ticks\":\"\"}},\"title\":{\"x\":0.05},\"xaxis\":{\"automargin\":true,\"gridcolor\":\"#EBF0F8\",\"linecolor\":\"#EBF0F8\",\"ticks\":\"\",\"title\":{\"standoff\":15},\"zerolinecolor\":\"#EBF0F8\",\"zerolinewidth\":2},\"yaxis\":{\"automargin\":true,\"gridcolor\":\"#EBF0F8\",\"linecolor\":\"#EBF0F8\",\"ticks\":\"\",\"title\":{\"standoff\":15},\"zerolinecolor\":\"#EBF0F8\",\"zerolinewidth\":2}}},\"xaxis\":{\"anchor\":\"y\",\"domain\":[0.0,0.45]},\"yaxis\":{\"anchor\":\"x\",\"domain\":[0.0,1.0]},\"annotations\":[{\"font\":{\"size\":16},\"showarrow\":false,\"text\":\"Gráfico de Barras\",\"x\":0.225,\"xanchor\":\"center\",\"xref\":\"paper\",\"y\":1.0,\"yanchor\":\"bottom\",\"yref\":\"paper\"},{\"font\":{\"size\":16},\"showarrow\":false,\"text\":\"Gráfico de Rosca\",\"x\":0.775,\"xanchor\":\"center\",\"xref\":\"paper\",\"y\":1.0,\"yanchor\":\"bottom\",\"yref\":\"paper\"}],\"title\":{\"text\":\"📊 Participação no Clube (Sim x Não)\"},\"width\":900,\"height\":450},                        {\"responsive\": true}                    ).then(function(){\n",
              "                            \n",
              "var gd = document.getElementById('692568af-4a6e-49da-8e84-1327d0014cd5');\n",
              "var x = new MutationObserver(function (mutations, observer) {{\n",
              "        var display = window.getComputedStyle(gd).display;\n",
              "        if (!display || display === 'none') {{\n",
              "            console.log([gd, 'removed!']);\n",
              "            Plotly.purge(gd);\n",
              "            observer.disconnect();\n",
              "        }}\n",
              "}});\n",
              "\n",
              "// Listen for the removal of the full notebook cells\n",
              "var notebookContainer = gd.closest('#notebook-container');\n",
              "if (notebookContainer) {{\n",
              "    x.observe(notebookContainer, {childList: true});\n",
              "}}\n",
              "\n",
              "// Listen for the clearing of the current output cell\n",
              "var outputEl = gd.closest('.output');\n",
              "if (outputEl) {{\n",
              "    x.observe(outputEl, {childList: true});\n",
              "}}\n",
              "\n",
              "                        })                };                            </script>        </div>\n",
              "</body>\n",
              "</html>"
            ]
          },
          "metadata": {}
        }
      ]
    },
    {
      "cell_type": "code",
      "source": [
        "import pandas as pd\n",
        "import seaborn as sns\n",
        "import matplotlib.pyplot as plt\n",
        "\n",
        "# Lendo dataset\n",
        "df = pd.read_csv('https://raw.githubusercontent.com/profivan-ai/cdb-Python/refs/heads/main/arquivos/compras.csv', sep=\";\")\n",
        "df['clube_texto'] = df['clube'].map({0: 'Não', 1: 'Sim'})\n",
        "\n",
        "# Dashboard simples com 2 gráficos lado a lado\n",
        "fig, axes = plt.subplots(1, 2, figsize=(10, 4))\n",
        "\n",
        "# Gráfico de barras\n",
        "sns.countplot(data=df, x='clube_texto', palette=['red','green'], ax=axes[0])\n",
        "axes[0].set_title('Participação no Clube (Barras)')\n",
        "axes[0].set_xlabel('Status')\n",
        "axes[0].set_ylabel('Quantidade')\n",
        "\n",
        "# Gráfico de pizza (usando matplotlib)\n",
        "valores = df['clube_texto'].value_counts()\n",
        "axes[1].pie(valores, labels=valores.index, autopct='%1.1f%%', colors=['red','green'])\n",
        "axes[1].set_title('Participação no Clube (Pizza)')\n",
        "\n",
        "plt.tight_layout()\n",
        "plt.show()\n"
      ],
      "metadata": {
        "colab": {
          "base_uri": "https://localhost:8080/",
          "height": 549
        },
        "id": "6wDWyYpfkPQ3",
        "outputId": "a08d58f6-8f9f-4e45-cc22-2e6b5e0fcacf"
      },
      "execution_count": 21,
      "outputs": [
        {
          "output_type": "stream",
          "name": "stderr",
          "text": [
            "/tmp/ipython-input-3543616933.py:13: FutureWarning:\n",
            "\n",
            "\n",
            "\n",
            "Passing `palette` without assigning `hue` is deprecated and will be removed in v0.14.0. Assign the `x` variable to `hue` and set `legend=False` for the same effect.\n",
            "\n",
            "\n"
          ]
        },
        {
          "output_type": "display_data",
          "data": {
            "text/plain": [
              "<Figure size 1000x400 with 2 Axes>"
            ],
            "image/png": "[encoded data removed]"
          },
          "metadata": {}
        }
      ]
    },
    {
      "cell_type": "code",
      "source": [
        "df = pd.read_csv('https://raw.githubusercontent.com/profivan-ai/cdb-Python/refs/heads/main/arquivos/compras.csv', sep=\";\")\n",
        "print(df.columns)"
      ],
      "metadata": {
        "colab": {
          "base_uri": "https://localhost:8080/"
        },
        "id": "bqjto6s8lqmw",
        "outputId": "d2750741-319e-464b-e7cf-7b3a4d0dfb82"
      },
      "execution_count": 26,
      "outputs": [
        {
          "output_type": "stream",
          "name": "stdout",
          "text": [
            "Index(['dia', 'sexo', 'clube', 'valor'], dtype='object')\n"
          ]
        }
      ]
    },
    {
      "cell_type": "code",
      "source": [
        "import pandas as pd\n",
        "import seaborn as sns\n",
        "import matplotlib.pyplot as plt\n",
        "import ipywidgets as widgets\n",
        "from IPython.display import display\n",
        "\n",
        "# Configurações de estilo\n",
        "sns.set_style(\"whitegrid\")\n",
        "\n",
        "# Dados\n",
        "df = pd.read_csv('https://raw.githubusercontent.com/profivan-ai/cdb-Python/refs/heads/main/arquivos/compras.csv', sep=\";\")\n",
        "df['clube_texto'] = df['clube'].map({0:'Não', 1:'Sim'})\n",
        "\n",
        "# Dropdown\n",
        "opcoes = [\"Todos\"] + sorted(df['sexo'].dropna().unique().tolist())\n",
        "dropdown = widgets.Dropdown(options=opcoes, description=\"Sexo:\")\n",
        "\n",
        "# Output\n",
        "out = widgets.Output()\n",
        "\n",
        "def atualizar_dashboard(sexo):\n",
        "    with out:\n",
        "        out.clear_output(wait=True)\n",
        "        df_filtrado = df if sexo==\"Todos\" else df[df['sexo']==sexo]\n",
        "\n",
        "        # KPIs\n",
        "        total = len(df_filtrado)\n",
        "        media = df_filtrado['valor'].mean()\n",
        "        print(f\"Total de compras: {total}   |   Valor médio: R${media:.2f}\\n\")\n",
        "\n",
        "        # Contagem Clube\n",
        "        contagem = df_filtrado['clube_texto'].value_counts().reset_index()\n",
        "        contagem.columns = ['Status','Quantidade']\n",
        "\n",
        "        # Gráfico de barras\n",
        "        plt.figure(figsize=(6,4))\n",
        "        sns.barplot(data=contagem, x='Status', y='Quantidade', palette={'Sim':'green','Não':'red'})\n",
        "        for i, q in enumerate(contagem['Quantidade']):\n",
        "            plt.text(i, q+0.1, str(q), ha='center', va='bottom', fontsize=12)\n",
        "        plt.title(f\"Compras por Clube (Sexo: {sexo})\")\n",
        "        plt.show()\n",
        "\n",
        "        # Gráfico de pizza\n",
        "        plt.figure(figsize=(5,5))\n",
        "        plt.pie(contagem['Quantidade'], labels=contagem['Status'], autopct='%1.1f%%', colors=['red','green'])\n",
        "        plt.title(f\"Distribuição Clube (Sexo: {sexo})\")\n",
        "        plt.show()\n",
        "\n",
        "# Conecta dropdown\n",
        "dropdown.observe(lambda change: atualizar_dashboard(change['new'])\n",
        "                 if change['type']=='change' and change['name']=='value' else None)\n",
        "\n",
        "# Exibe\n",
        "display(dropdown, out)\n",
        "atualizar_dashboard(\"Todos\")\n"
      ],
      "metadata": {
        "colab": {
          "base_uri": "https://localhost:8080/",
          "height": 1000,
          "referenced_widgets": [
            "a92cee7bb8e145f4964998cd95b90416",
            "c0971229ed7b4e0e9001eec3417f40a0",
            "6af12b8d70994b56888c2e662582dc78",
            "bf7012abdd6d4257a5b40a53ef3c54b3",
            "1592b53752e449de98b2f1b122b1cd3a"
          ]
        },
        "id": "E_ACZDTIlPVi",
        "outputId": "b24305fd-437d-4b08-c6ca-d109b1616a74"
      },
      "execution_count": 48,
      "outputs": [
        {
          "output_type": "display_data",
          "data": {
            "text/plain": [
              "Dropdown(description='Sexo:', options=('Todos', 'f', 'm'), value='Todos')"
            ],
            "application/vnd.jupyter.widget-view+json": {
              "version_major": 2,
              "version_minor": 0,
              "model_id": "a92cee7bb8e145f4964998cd95b90416"
            }
          },
          "metadata": {}
        },
        {
          "output_type": "display_data",
          "data": {
            "text/plain": [
              "Output()"
            ],
            "application/vnd.jupyter.widget-view+json": {
              "version_major": 2,
              "version_minor": 0,
              "model_id": "bf7012abdd6d4257a5b40a53ef3c54b3"
            }
          },
          "metadata": {}
        }
      ]
    }
  ]
}